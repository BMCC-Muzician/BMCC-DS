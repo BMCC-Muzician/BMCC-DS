{
 "cells": [
  {
   "cell_type": "code",
   "execution_count": 1,
   "id": "c6fb72da-cc79-4f92-abf2-f46a46c16207",
   "metadata": {},
   "outputs": [],
   "source": [
    "import numpy as np\n",
    "import matplotlib.pyplot as plt\n",
    "import torch"
   ]
  },
  {
   "cell_type": "markdown",
   "id": "61f077dc-cacb-40fe-a4f2-d54dcd8fd043",
   "metadata": {},
   "source": [
    "### Creating vectors and matricies.\n",
    "\n",
    "We will use NumPy at the start. Vector is just a 1-dim array (or more precisely, 1-dim tensor). A matrix is a two dimensional array/tensor:"
   ]
  },
  {
   "cell_type": "code",
   "execution_count": 2,
   "id": "85b777cc-e897-4501-8074-2b364a59f1c9",
   "metadata": {},
   "outputs": [],
   "source": [
    "v1 = np.array([2,4,-1])\n",
    "M1=np.array([[1,2,3],[2,3,4]])"
   ]
  },
  {
   "cell_type": "code",
   "execution_count": 3,
   "id": "ba18d89e-c2e6-4bb2-910a-909b9e2e4b0c",
   "metadata": {},
   "outputs": [
    {
     "data": {
      "text/plain": [
       "array([ 2,  4, -1])"
      ]
     },
     "execution_count": 3,
     "metadata": {},
     "output_type": "execute_result"
    }
   ],
   "source": [
    "v1"
   ]
  },
  {
   "cell_type": "code",
   "execution_count": 4,
   "id": "c46884e7-ce77-4775-bf2a-0ed1a5ba3a1b",
   "metadata": {},
   "outputs": [
    {
     "data": {
      "text/plain": [
       "array([[1, 2, 3],\n",
       "       [2, 3, 4]])"
      ]
     },
     "execution_count": 4,
     "metadata": {},
     "output_type": "execute_result"
    }
   ],
   "source": [
    "M1"
   ]
  },
  {
   "cell_type": "markdown",
   "id": "4077e49b-bc24-497d-8451-43f95e7d4262",
   "metadata": {},
   "source": [
    "### Operations.\n",
    "\n",
    "We can add tensors of the same size (by additng corresponding terms) and we can scale tensors (by multiplying each term by given scalar):\n",
    "\n",
    "So, for example in the case with vectors, $$\\begin{bmatrix} a \\\\ b \\\\ c \\end{bmatrix} + \\begin{bmatrix} d \\\\ e \\\\ f  \\end{bmatrix}= \\begin{bmatrix} a+d \\\\ b+e \\\\ c+f \\end{bmatrix}$$\n",
    "and\n",
    "\n",
    "$$ k \\begin{bmatrix} a \\\\ b \\\\ c \\end{bmatrix} = \\begin{bmatrix} ka \\\\ kb \\\\ kc \\end{bmatrix}$$"
   ]
  },
  {
   "cell_type": "code",
   "execution_count": 8,
   "id": "a90cd014-3c41-4e8f-89f8-10983ab92ddd",
   "metadata": {},
   "outputs": [],
   "source": [
    "v2=np.array([3,-1,0])\n",
    "M2=np.array([[2,3,3],[5,-2,4]])"
   ]
  },
  {
   "cell_type": "code",
   "execution_count": 9,
   "id": "884f0ea9-b743-45e5-b2ee-fcc6868276c9",
   "metadata": {},
   "outputs": [
    {
     "data": {
      "text/plain": [
       "array([ 5,  3, -1])"
      ]
     },
     "execution_count": 9,
     "metadata": {},
     "output_type": "execute_result"
    }
   ],
   "source": [
    "v1+v2"
   ]
  },
  {
   "cell_type": "code",
   "execution_count": 10,
   "id": "ca552cc9-f9c1-4b84-a519-892c9090619a",
   "metadata": {},
   "outputs": [
    {
     "data": {
      "text/plain": [
       "array([[3, 5, 6],\n",
       "       [7, 1, 8]])"
      ]
     },
     "execution_count": 10,
     "metadata": {},
     "output_type": "execute_result"
    }
   ],
   "source": [
    "M1+M2"
   ]
  },
  {
   "cell_type": "code",
   "execution_count": 11,
   "id": "efadfca7-a7b5-4dc4-a584-8fa849340b28",
   "metadata": {},
   "outputs": [
    {
     "data": {
      "text/plain": [
       "array([ 8, 16, -4])"
      ]
     },
     "execution_count": 11,
     "metadata": {},
     "output_type": "execute_result"
    }
   ],
   "source": [
    "4*v1"
   ]
  },
  {
   "cell_type": "code",
   "execution_count": 12,
   "id": "7509daf7-9d79-4bcd-9b11-3b8896e75e04",
   "metadata": {},
   "outputs": [
    {
     "data": {
      "text/plain": [
       "array([[ -3,  -6,  -9],\n",
       "       [ -6,  -9, -12]])"
      ]
     },
     "execution_count": 12,
     "metadata": {},
     "output_type": "execute_result"
    }
   ],
   "source": [
    "-3*M1"
   ]
  },
  {
   "cell_type": "markdown",
   "id": "9e582687-4d9d-444e-8520-71292024ffdb",
   "metadata": {},
   "source": [
    "Multiplication is not as nice and we have few types of multiplication depending on type of a tensor. \n",
    "\n",
    "An important product on vectors is dot product ( a.k.a inner product):\n",
    "$$ \\begin{bmatrix} w_1 \\\\ w_2 \\\\w_3 \\end{bmatrix} \\cdot \\begin{bmatrix} x_1 \\\\ x_2 \\\\x_3 \\end{bmatrix} = w_1 x_1+ w_2 x_2+w_3x_3$$\n",
    "\n",
    "A good way to think about it is to think of one vector as weights and the other as values, then the dot product is like a weighted sum. To perform a dot product we cat use \"@\" operation:\n"
   ]
  },
  {
   "cell_type": "code",
   "execution_count": 13,
   "id": "bc01df8e-8b74-4078-9543-25fe3d1a0c4b",
   "metadata": {},
   "outputs": [
    {
     "data": {
      "text/plain": [
       "2"
      ]
     },
     "execution_count": 13,
     "metadata": {},
     "output_type": "execute_result"
    }
   ],
   "source": [
    "v1@v2"
   ]
  },
  {
   "cell_type": "markdown",
   "id": "0bd75d2d-9c01-4d82-9663-0cb546d16351",
   "metadata": {},
   "source": [
    "We can also multiply matricies by performing a dot product of every row of the first matrix by every column of the second one. (Note: this means the the product is not commutative):\n",
    "$$ \\begin{bmatrix} 2 & 3 & 4 \\\\ 5 & 6 & 7 \\end{bmatrix} \\begin{bmatrix} a & b \\\\ c & d \\\\ e & f \\end{bmatrix} = \\begin{bmatrix} 2a+3c+4e & 2b+3d+4f \\\\ 5a+6c+7e & 5b+6d+7f \\end{bmatrix}$$\n",
    "\n",
    "This also means that number of columns of the first matrix must match to number of rows of the second one. To perform this product we can use the same \"@\" operator:"
   ]
  },
  {
   "cell_type": "code",
   "execution_count": 14,
   "id": "c0fe25c4-e4f1-4e00-aa49-050d574bb8f0",
   "metadata": {},
   "outputs": [],
   "source": [
    "M3=np.array([[2,3],[3,5], [-2,4]])"
   ]
  },
  {
   "cell_type": "code",
   "execution_count": 15,
   "id": "5a22ba79-4961-48f1-ba6c-3cbce8260ce9",
   "metadata": {},
   "outputs": [
    {
     "data": {
      "text/plain": [
       "array([[ 2, 25],\n",
       "       [ 5, 37]])"
      ]
     },
     "execution_count": 15,
     "metadata": {},
     "output_type": "execute_result"
    }
   ],
   "source": [
    "M1@M3"
   ]
  },
  {
   "cell_type": "markdown",
   "id": "5e3e2f40-47b3-4dd6-a0fc-2a2c4ccdd1a7",
   "metadata": {},
   "source": [
    "### Other tools\n",
    "\n",
    "Since we can think of vectors as matricies with one column, the dot product is just a matrix product of a transpose of the first vector by the second one. (Transpose is when we swap rows and columns of the matrix.)"
   ]
  },
  {
   "cell_type": "code",
   "execution_count": 16,
   "id": "53c0f130-1da4-4588-a094-e8b8fac3a671",
   "metadata": {},
   "outputs": [
    {
     "data": {
      "text/plain": [
       "array([[1, 2],\n",
       "       [2, 3],\n",
       "       [3, 4]])"
      ]
     },
     "execution_count": 16,
     "metadata": {},
     "output_type": "execute_result"
    }
   ],
   "source": [
    "M1.T"
   ]
  },
  {
   "cell_type": "markdown",
   "id": "358bb41e-b784-4a03-aa85-2d0c4f92da4e",
   "metadata": {},
   "source": [
    "An important value for a vector is a norm. It is a lenght of a vector and it calculated by taking root of a dot product of a vector with itself:\n",
    "$$ ||{\\bf v}||=\\sqrt{{\\bf v} \\cdot {\\bf v}}$$"
   ]
  },
  {
   "cell_type": "code",
   "execution_count": 17,
   "id": "cc4779e2-efde-459a-adae-6f43f6d29518",
   "metadata": {},
   "outputs": [
    {
     "data": {
      "text/plain": [
       "4.58257569495584"
      ]
     },
     "execution_count": 17,
     "metadata": {},
     "output_type": "execute_result"
    }
   ],
   "source": [
    "np.linalg.norm(v1)"
   ]
  },
  {
   "cell_type": "markdown",
   "id": "376d37b1-74a1-4d71-89ae-b1054b4698b2",
   "metadata": {},
   "source": [
    "A unit vector is a vector of lenght one. To normalize a vector means to rescale it so that it is a unit vector. In other words, get a vector of lenght 1 that points in the same direction as your vector. To normalize a vector all we need to do is divide it by its norm:"
   ]
  },
  {
   "cell_type": "code",
   "execution_count": 18,
   "id": "b4803b5f-f079-48dd-b1af-e4ec47d5ce96",
   "metadata": {},
   "outputs": [
    {
     "data": {
      "text/plain": [
       "array([ 0.43643578,  0.87287156, -0.21821789])"
      ]
     },
     "execution_count": 18,
     "metadata": {},
     "output_type": "execute_result"
    }
   ],
   "source": [
    "u1=v1/np.linalg.norm(v1)\n",
    "u1"
   ]
  },
  {
   "cell_type": "markdown",
   "id": "fa81d134-9401-459d-9455-28878f57764a",
   "metadata": {},
   "source": [
    "Let's see this graphically:"
   ]
  },
  {
   "cell_type": "code",
   "execution_count": 19,
   "id": "5622528d-3a2b-4e43-b653-5cc9166c5648",
   "metadata": {},
   "outputs": [
    {
     "data": {
      "image/png": "[encoded data removed]",
      "text/plain": [
       "<Figure size 1000x500 with 1 Axes>"
      ]
     },
     "metadata": {},
     "output_type": "display_data"
    }
   ],
   "source": [
    "fig, ax = plt.subplots(figsize=(10, 5))\n",
    "ax.set_xlim([-1, 3])\n",
    "ax.set_ylim([-0.5, 4.5])\n",
    "plt.quiver([0,0], [0,0],[v1[0], u1[0]], [v1[1], u1[1]], angles='xy',scale_units='xy',color = ['g','r'], scale=1)\n",
    "plt.grid(alpha=0.6)\n"
   ]
  },
  {
   "cell_type": "markdown",
   "id": "5d0e07c0-a1d6-43f2-a243-2da4627c0446",
   "metadata": {},
   "source": [
    "### Projections\n",
    "\n",
    "A dot product can be also thought of as projection. To understand it, lets look at our vectors ${\\bf v1}$ (in red) and ${\\bf v2}$ (in green)."
   ]
  },
  {
   "cell_type": "code",
   "execution_count": 35,
   "id": "44296dcd-6b03-4001-abb0-3d0cb6aa303a",
   "metadata": {},
   "outputs": [
    {
     "data": {
      "image/png": "[encoded data removed]",
      "text/plain": [
       "<Figure size 1000x1000 with 1 Axes>"
      ]
     },
     "metadata": {},
     "output_type": "display_data"
    }
   ],
   "source": [
    "v1=np.array([2,3])\n",
    "v2=np.array([1,-1])\n",
    "\n",
    "fig, ax = plt.subplots(figsize=(10, 10))\n",
    "ax.set_aspect('equal')\n",
    "ax.set_xlim([-2, 4])\n",
    "ax.set_ylim([-2, 4])\n",
    "plt.quiver([0,0], [0,0],[v1[0], v2[0]], [v1[1], v2[1]], angles='xy',scale_units='xy',color = ['g','r'], scale=1)\n",
    "plt.grid(alpha=0.6)"
   ]
  },
  {
   "cell_type": "markdown",
   "id": "eb611aed-9b2d-482c-8dc9-b7b82d4e55f3",
   "metadata": {},
   "source": [
    "I want to project green vector onto a red one. This like a \"shadow\" of it on the red vector if the light source is right above the green vector. Manually this is like a finding an intersections of the red vector and the line that goes through the tip of the green vector and is perpendicular to the red one. \n",
    "\n",
    "The dot product is exactly the length of that \"shadow\". So, to find the projection I need to rescale the red vector so that its length equal to the dot product. We can do this by dividing the red vector by its norm to get length 1, and then multiplying by the dot product. If I then multiply by a unit vector in the direction of $v2$, I'll get actual projection."
   ]
  },
  {
   "cell_type": "code",
   "execution_count": 37,
   "id": "c0c05c31-384b-426b-8e9b-329bb2cf57c7",
   "metadata": {},
   "outputs": [],
   "source": [
    "Shadow_Lenght=v1@(v2/np.linalg.norm(v2))\n",
    "\n",
    "p=Shadow_Lenght*(v2/np.linalg.norm(v2))"
   ]
  },
  {
   "cell_type": "code",
   "execution_count": 38,
   "id": "487c3183-b384-4a25-87e4-9e4da8484020",
   "metadata": {},
   "outputs": [
    {
     "data": {
      "image/png": "[encoded data removed]",
      "text/plain": [
       "<Figure size 1000x1000 with 1 Axes>"
      ]
     },
     "metadata": {},
     "output_type": "display_data"
    }
   ],
   "source": [
    "fig, ax = plt.subplots(figsize=(10, 10))\n",
    "ax.set_aspect('equal')\n",
    "ax.set_xlim([-2, 4])\n",
    "ax.set_ylim([-2, 4])\n",
    "plt.quiver([0,0,0], [0,0,0],[v1[0], v2[0], p[0]], [v1[1], v2[1],p[1]], angles='xy',scale_units='xy',color = ['g','r','b'], scale=1)\n",
    "plt.plot([ v1[0], p[0]], [ v1[1],p[1]], c='orange')\n",
    "plt.grid(alpha=0.6)"
   ]
  },
  {
   "cell_type": "markdown",
   "id": "60f7e3e8-a830-42a5-a763-c9a33625dac5",
   "metadata": {},
   "source": [
    "If our $v2$ is already unit vector, then it's even better as we dont have to divide by norm. Then dot product is equal to the length of the shadow right away."
   ]
  },
  {
   "cell_type": "markdown",
   "id": "a17e98e8-5dba-4ddf-b665-1105747b4a68",
   "metadata": {},
   "source": [
    "### Using PyTorch:\n",
    "\n",
    "PyTorch is a nice library that we will use in future when we want to talk about Neural Networks. If we want to use it, we need to define tensors using PyTorch commands. Note it is better to add `dtype=torch.float32` to signify that the entries are real numbers. Certain commands won't work otherwise."
   ]
  },
  {
   "cell_type": "code",
   "execution_count": 23,
   "id": "d744d5ec-bf1a-4878-9dc4-01b1769c956d",
   "metadata": {},
   "outputs": [],
   "source": [
    "v1 = torch.tensor([2,4,-1],dtype=torch.float32)\n",
    "M1=torch.tensor([[1,2,3],[2,3,4]],dtype=torch.float32)\n",
    "v2=torch.tensor([3,-1,0],dtype=torch.float32)\n",
    "M2=torch.tensor([[2,3],[3,5], [-2,4]],dtype=torch.float32)"
   ]
  },
  {
   "cell_type": "code",
   "execution_count": 24,
   "id": "768c62c7-6067-4b46-9c2a-f3e440f46b3a",
   "metadata": {},
   "outputs": [
    {
     "data": {
      "text/plain": [
       "tensor([[1., 2., 3.],\n",
       "        [2., 3., 4.]])"
      ]
     },
     "execution_count": 24,
     "metadata": {},
     "output_type": "execute_result"
    }
   ],
   "source": [
    "M1"
   ]
  },
  {
   "cell_type": "code",
   "execution_count": 25,
   "id": "19136990-3ec4-4603-949f-ceba04e20c8a",
   "metadata": {},
   "outputs": [
    {
     "data": {
      "text/plain": [
       "tensor(2.)"
      ]
     },
     "execution_count": 25,
     "metadata": {},
     "output_type": "execute_result"
    }
   ],
   "source": [
    "v1@v2"
   ]
  },
  {
   "cell_type": "code",
   "execution_count": 26,
   "id": "0588f5d2-d42b-471e-b441-360d072a51d5",
   "metadata": {},
   "outputs": [
    {
     "data": {
      "text/plain": [
       "tensor([[ 2., 25.],\n",
       "        [ 5., 37.]])"
      ]
     },
     "execution_count": 26,
     "metadata": {},
     "output_type": "execute_result"
    }
   ],
   "source": [
    "M1@M2"
   ]
  },
  {
   "cell_type": "markdown",
   "id": "5a4eae80-4751-4723-9241-d63adb3f8c12",
   "metadata": {},
   "source": [
    "It is worth noting that PyTorch has a built-in method to perform multiplication that is much faster:"
   ]
  },
  {
   "cell_type": "code",
   "execution_count": 27,
   "id": "ce866c12-849f-4d7c-b645-1ae25d7afa69",
   "metadata": {},
   "outputs": [
    {
     "data": {
      "text/plain": [
       "tensor(2.)"
      ]
     },
     "execution_count": 27,
     "metadata": {},
     "output_type": "execute_result"
    }
   ],
   "source": [
    "torch.matmul(v1, v2)"
   ]
  },
  {
   "cell_type": "code",
   "execution_count": 28,
   "id": "4b2540d7-2caa-42d0-bbd9-3891aa0f2143",
   "metadata": {},
   "outputs": [
    {
     "data": {
      "text/plain": [
       "tensor([[ 2., 25.],\n",
       "        [ 5., 37.]])"
      ]
     },
     "execution_count": 28,
     "metadata": {},
     "output_type": "execute_result"
    }
   ],
   "source": [
    "torch.matmul(M1, M2)"
   ]
  },
  {
   "cell_type": "code",
   "execution_count": 29,
   "id": "7c1bdef1-cba3-40fa-8973-942619fee843",
   "metadata": {},
   "outputs": [
    {
     "data": {
      "text/plain": [
       "tensor([[1., 2.],\n",
       "        [2., 3.],\n",
       "        [3., 4.]])"
      ]
     },
     "execution_count": 29,
     "metadata": {},
     "output_type": "execute_result"
    }
   ],
   "source": [
    "M1.T"
   ]
  }
 ],
 "metadata": {
  "kernelspec": {
   "display_name": "Python 3 (ipykernel)",
   "language": "python",
   "name": "python3"
  },
  "language_info": {
   "codemirror_mode": {
    "name": "ipython",
    "version": 3
   },
   "file_extension": ".py",
   "mimetype": "text/x-python",
   "name": "python",
   "nbconvert_exporter": "python",
   "pygments_lexer": "ipython3",
   "version": "3.11.8"
  }
 },
 "nbformat": 4,
 "nbformat_minor": 5
}
