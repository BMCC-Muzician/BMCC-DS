{
  "cells": [
    {
      "cell_type": "code",
      "execution_count": null,
      "id": "a86f25f9-3156-479e-bed0-d2700c3c07b9",
      "metadata": {
        "id": "a86f25f9-3156-479e-bed0-d2700c3c07b9"
      },
      "outputs": [],
      "source": [
        "import numpy as np\n",
        "import matplotlib.pyplot as plt\n",
        "from matplotlib.colors import ListedColormap\n",
        "import torch\n",
        "import torch.nn as nn\n",
        "from sklearn import datasets\n",
        "from sklearn.model_selection import train_test_split\n",
        "from sklearn.linear_model import LogisticRegression, SGDClassifier\n",
        "from sklearn.preprocessing import StandardScaler\n",
        "from sklearn.metrics import confusion_matrix\n",
        "import pandas as pd\n",
        "import seaborn as sns\n",
        "\n",
        "import warnings\n",
        "warnings.filterwarnings(\"ignore\")"
      ]
    },
    {
      "cell_type": "markdown",
      "id": "8df28fb0-d6e3-4d9d-a877-912d7ad682e6",
      "metadata": {
        "id": "8df28fb0-d6e3-4d9d-a877-912d7ad682e6"
      },
      "source": [
        "### Perceptron\n",
        "\n",
        "Idea of artificial neuron (perceptron) was influenced by 1943 paper by McCulloch and Pitts that was trying to understand how real neurons work as a step to creating artificial intelligence. In 1957 Rosenblatt published a paper with a first concept of perceptron. It is a simple binary classification algorithm. Given a decision function $f(z)$, whose input is a linear combination of input values $x$ with corresponding weights $w$ (i.e. $z=w_1x_1+w_2x_2+ \\cdots +w_nx_n$). The output of $f$ is either 0 or 1 based on some treshhold value $\\theta$:\n",
        "$$ f(z)=\\begin{cases}\n",
        "    1 & ,z \\ge \\theta \\\\\n",
        "    0 & ,otherwise\n",
        "    \\end{cases}$$\n",
        "\n",
        "We also add a bias unit $b$ so that $z=w_1x_1+w_2x_2+ \\cdots +w_nx_n+b = {\\bf w}^T{\\bf x} +b$. The \"line\" $z=\\theta$ is called decision boundary and so anything on one side of that line is classified as one class, and anything on the other side is classified as another class. We can train perceptron as follows:\n",
        "\n",
        "1. Given data and some starting values for weights and bias, we evaluate our function ${\\bf w}^T{\\bf x} +b$\n",
        "2. Apply threshold function to classify data and get predictions\n",
        "3. Compare predictions to real labels and calculate our error (loss)\n",
        "4. Update parameters and weights.\n",
        "5. Repeat the process until there is no error or when some stopping critirion is reached\n",
        "\n",
        "The update part is similar to gradient descent a bit, but our function is not continuous so we can't do it. Instead we update as follows:\n",
        "$$ w_j=w_j+\\Delta w_j =w_j + \\eta (y^{(i)}-\\hat{y}^{(i)})x^{(i)}_j$$\n",
        "$$ b=b+\\Delta b =b + \\eta (y^{(i)}-\\hat{y}^{(i)})$$\n",
        "\n",
        "where $\\eta$ is a learning rate."
      ]
    },
    {
      "cell_type": "markdown",
      "id": "ca5767a2-db06-413f-9025-26ba717b3694",
      "metadata": {
        "id": "ca5767a2-db06-413f-9025-26ba717b3694"
      },
      "source": [
        "![Percepdiag.png](attachment:182f4af8-dc53-4384-9e0f-0b90f76e4ce6.png)"
      ]
    },
    {
      "cell_type": "markdown",
      "id": "f3d8b708-8294-4cb6-8438-72afc48a2e57",
      "metadata": {
        "id": "f3d8b708-8294-4cb6-8438-72afc48a2e57"
      },
      "source": [
        "### Adaline\n",
        "\n",
        "In 1960, a paper by Widrow and Hoff improved on a idea of preceptron by creating Adaline (Adaptive Linear Neuron). Main difference is that we no longer compute error using predicting class. Instead we use continuous valuee of activation function. In this case, identity function:"
      ]
    },
    {
      "cell_type": "markdown",
      "id": "672669c1-009c-404d-823d-f738ac6dc524",
      "metadata": {
        "id": "672669c1-009c-404d-823d-f738ac6dc524"
      },
      "source": [
        "![Adalinediag.png](attachment:3cf00990-64d2-4c7d-89f7-8d12a562f213.png)"
      ]
    },
    {
      "cell_type": "markdown",
      "id": "45201993-fefc-4223-b719-c9ef3597b353",
      "metadata": {
        "id": "45201993-fefc-4223-b719-c9ef3597b353"
      },
      "source": [
        "For error we are going to apply MSE Loss function and updates are done through gradient descent just like in linear regression. We will run through update loop until we are satisfied, then apply threshold function to get final classification. Most clasification algorithms run through similar loop, just with different activation function and/or threshold function and/or loss function, etc. And neural networks will be contain many such neurons. Let's see how Adaline works on a Iris Data set."
      ]
    },
    {
      "cell_type": "code",
      "execution_count": null,
      "id": "a969ba12-5d17-47e0-8577-ba0eeb918c8c",
      "metadata": {
        "id": "a969ba12-5d17-47e0-8577-ba0eeb918c8c"
      },
      "outputs": [],
      "source": [
        "dataset=datasets.load_iris()"
      ]
    },
    {
      "cell_type": "code",
      "execution_count": null,
      "id": "d91427ac-70a7-4a7b-a156-fcec5d633764",
      "metadata": {
        "id": "d91427ac-70a7-4a7b-a156-fcec5d633764",
        "outputId": "1c51f987-b72e-4a1d-bca2-594224911682"
      },
      "outputs": [
        {
          "name": "stdout",
          "output_type": "stream",
          "text": [
            ".. _iris_dataset:\n",
            "\n",
            "Iris plants dataset\n",
            "--------------------\n",
            "\n",
            "**Data Set Characteristics:**\n",
            "\n",
            ":Number of Instances: 150 (50 in each of three classes)\n",
            ":Number of Attributes: 4 numeric, predictive attributes and the class\n",
            ":Attribute Information:\n",
            "    - sepal length in cm\n",
            "    - sepal width in cm\n",
            "    - petal length in cm\n",
            "    - petal width in cm\n",
            "    - class:\n",
            "            - Iris-Setosa\n",
            "            - Iris-Versicolour\n",
            "            - Iris-Virginica\n",
            "\n",
            ":Summary Statistics:\n",
            "\n",
            "============== ==== ==== ======= ===== ====================\n",
            "                Min  Max   Mean    SD   Class Correlation\n",
            "============== ==== ==== ======= ===== ====================\n",
            "sepal length:   4.3  7.9   5.84   0.83    0.7826\n",
            "sepal width:    2.0  4.4   3.05   0.43   -0.4194\n",
            "petal length:   1.0  6.9   3.76   1.76    0.9490  (high!)\n",
            "petal width:    0.1  2.5   1.20   0.76    0.9565  (high!)\n",
            "============== ==== ==== ======= ===== ====================\n",
            "\n",
            ":Missing Attribute Values: None\n",
            ":Class Distribution: 33.3% for each of 3 classes.\n",
            ":Creator: R.A. Fisher\n",
            ":Donor: Michael Marshall (MARSHALL%PLU@io.arc.nasa.gov)\n",
            ":Date: July, 1988\n",
            "\n",
            "The famous Iris database, first used by Sir R.A. Fisher. The dataset is taken\n",
            "from Fisher's paper. Note that it's the same as in R, but not as in the UCI\n",
            "Machine Learning Repository, which has two wrong data points.\n",
            "\n",
            "This is perhaps the best known database to be found in the\n",
            "pattern recognition literature.  Fisher's paper is a classic in the field and\n",
            "is referenced frequently to this day.  (See Duda & Hart, for example.)  The\n",
            "data set contains 3 classes of 50 instances each, where each class refers to a\n",
            "type of iris plant.  One class is linearly separable from the other 2; the\n",
            "latter are NOT linearly separable from each other.\n",
            "\n",
            "|details-start|\n",
            "**References**\n",
            "|details-split|\n",
            "\n",
            "- Fisher, R.A. \"The use of multiple measurements in taxonomic problems\"\n",
            "  Annual Eugenics, 7, Part II, 179-188 (1936); also in \"Contributions to\n",
            "  Mathematical Statistics\" (John Wiley, NY, 1950).\n",
            "- Duda, R.O., & Hart, P.E. (1973) Pattern Classification and Scene Analysis.\n",
            "  (Q327.D83) John Wiley & Sons.  ISBN 0-471-22361-1.  See page 218.\n",
            "- Dasarathy, B.V. (1980) \"Nosing Around the Neighborhood: A New System\n",
            "  Structure and Classification Rule for Recognition in Partially Exposed\n",
            "  Environments\".  IEEE Transactions on Pattern Analysis and Machine\n",
            "  Intelligence, Vol. PAMI-2, No. 1, 67-71.\n",
            "- Gates, G.W. (1972) \"The Reduced Nearest Neighbor Rule\".  IEEE Transactions\n",
            "  on Information Theory, May 1972, 431-433.\n",
            "- See also: 1988 MLC Proceedings, 54-64.  Cheeseman et al\"s AUTOCLASS II\n",
            "  conceptual clustering system finds 3 classes in the data.\n",
            "- Many, many more ...\n",
            "\n",
            "|details-end|\n",
            "\n"
          ]
        }
      ],
      "source": [
        "print(dataset['DESCR'])"
      ]
    },
    {
      "cell_type": "code",
      "execution_count": null,
      "id": "ff36000f-6d9d-4348-8ead-a9dea7bb9af8",
      "metadata": {
        "id": "ff36000f-6d9d-4348-8ead-a9dea7bb9af8"
      },
      "outputs": [],
      "source": [
        "X = dataset.data\n",
        "y = dataset.target"
      ]
    },
    {
      "cell_type": "markdown",
      "id": "f228374f-5779-4324-b2ef-901f143685d3",
      "metadata": {
        "id": "f228374f-5779-4324-b2ef-901f143685d3"
      },
      "source": [
        "We have three classes in this data set: Iris-Setosa, Iris-Versicolour and Iris-Virginica. Since at this point we can only do binary classification let's remove one class. I will keep the first two classes Setosa and Versicolour. Additionally to simplify our problem I will look only at sepal length and petal lenght."
      ]
    },
    {
      "cell_type": "code",
      "execution_count": null,
      "id": "f19a1357-0484-4f42-8da8-2a5da81f4b45",
      "metadata": {
        "id": "f19a1357-0484-4f42-8da8-2a5da81f4b45"
      },
      "outputs": [],
      "source": [
        "X=X[:100, [0,2]]\n",
        "y=y[:100]"
      ]
    },
    {
      "cell_type": "markdown",
      "id": "fc488924-aa5f-4b3f-bb28-77ce63824621",
      "metadata": {
        "id": "fc488924-aa5f-4b3f-bb28-77ce63824621"
      },
      "source": [
        "Let's split our data into training and test sets and apply standard scaler."
      ]
    },
    {
      "cell_type": "code",
      "execution_count": null,
      "id": "efe015d8-da57-45b5-b7a5-60c1b35d6dcf",
      "metadata": {
        "id": "efe015d8-da57-45b5-b7a5-60c1b35d6dcf"
      },
      "outputs": [],
      "source": [
        "X_train, X_test, y_train, y_test = train_test_split(X, y, test_size=0.20)\n",
        "sc=StandardScaler()\n",
        "\n",
        "X_train=sc.fit_transform(X_train)\n",
        "X_test=sc.transform(X_test)"
      ]
    },
    {
      "cell_type": "markdown",
      "id": "5eda9334-e288-4f89-ad36-c7d043d60c8b",
      "metadata": {
        "id": "5eda9334-e288-4f89-ad36-c7d043d60c8b"
      },
      "source": [
        "Let's look at our data graphically"
      ]
    },
    {
      "cell_type": "code",
      "execution_count": null,
      "id": "e8f186d1-3727-4b91-a998-0c3da0c19f24",
      "metadata": {
        "id": "e8f186d1-3727-4b91-a998-0c3da0c19f24",
        "outputId": "f96d3b9b-8e52-42c6-d861-db684467da1c"
      },
      "outputs": [
        {
          "data": {
            "image/png": "[encoded data removed]",
            "text/plain": [
              "<Figure size 800x800 with 1 Axes>"
            ]
          },
          "metadata": {},
          "output_type": "display_data"
        }
      ],
      "source": [
        "fig=plt.figure(figsize=(8,8))\n",
        "plt.scatter(X[:50, 0], X[:50, 1], color='red', s=50, label='Setosa',edgecolors='k')\n",
        "plt.scatter(X[50:100, 0], X[50:100, 1], color='blue', s=50, label='Versicolor',edgecolors='k')\n",
        "plt.legend()\n",
        "plt.show()"
      ]
    },
    {
      "cell_type": "markdown",
      "id": "24b09910-c6b7-4214-b415-baa24b6a40fe",
      "metadata": {
        "id": "24b09910-c6b7-4214-b415-baa24b6a40fe"
      },
      "source": [
        "We can clearly see it has nice linear separation. So let's define Adaline class and train it on this data set."
      ]
    },
    {
      "cell_type": "code",
      "execution_count": null,
      "id": "1de4ac49-f9f5-45b3-bd3f-049734c163d2",
      "metadata": {
        "id": "1de4ac49-f9f5-45b3-bd3f-049734c163d2"
      },
      "outputs": [],
      "source": [
        "class Adaline:\n",
        "    def __init__(self, lr=0.01, n_epoch=150):\n",
        "        self.lr=lr\n",
        "        self.n_epoch=n_epoch\n",
        "        self.weight=None\n",
        "        self.bias=None\n",
        "\n",
        "    def func(self, X):\n",
        "        return np.dot(X, self.weight)+self.bias\n",
        "\n",
        "    def fit(self, X, y):\n",
        "        self.weight=np.zeros(X.shape[1])\n",
        "        self.bias=0.\n",
        "\n",
        "        for _ in range(self.n_epoch):\n",
        "            output=self.func(X)\n",
        "            error = output-y\n",
        "            dw=2*np.dot(error,X)/X.shape[0]\n",
        "            db=2*error.mean()\n",
        "\n",
        "            self.weight=self.weight-self.lr*dw\n",
        "            self.bias-=self.lr*db\n",
        "\n",
        "    def predict(self, X):\n",
        "        return np.where(self.func(X)>=0.5, 1,0)"
      ]
    },
    {
      "cell_type": "code",
      "execution_count": null,
      "id": "eaf658c2-b2a4-4361-ba60-c811e76829a7",
      "metadata": {
        "id": "eaf658c2-b2a4-4361-ba60-c811e76829a7",
        "outputId": "06f99562-01f1-4897-bcf3-489c74234a95"
      },
      "outputs": [
        {
          "data": {
            "text/plain": [
              "array([[13,  0],\n",
              "       [ 0,  7]], dtype=int64)"
            ]
          },
          "execution_count": 12,
          "metadata": {},
          "output_type": "execute_result"
        }
      ],
      "source": [
        "ada=Adaline()\n",
        "ada.fit(X_train, y_train)\n",
        "confusion_matrix(y_test, ada.predict(X_test))"
      ]
    },
    {
      "cell_type": "code",
      "execution_count": null,
      "id": "949b7f27-2c73-4ce2-a6f0-24fe4944a1f8",
      "metadata": {
        "id": "949b7f27-2c73-4ce2-a6f0-24fe4944a1f8"
      },
      "outputs": [],
      "source": [
        "# Helper function to plot a decision boundary.\n",
        "def plot_decision_boundary(X, y, model, resolution=0.02):\n",
        "    colors = ['red', 'blue', 'lightgreen', 'gray', 'cyan']\n",
        "    cmap = ListedColormap(colors[:len(np.unique(y))])\n",
        "    markers = ('s', 'x', 'o', '^', 'v')\n",
        "\n",
        "    # Set min and max values and give it some padding\n",
        "    x_min, x_max = X[:,0].min()-1, X[:,0].max()+1\n",
        "    y_min, y_max = X[:,1].min()-1, X[:,1].max()+1\n",
        "\n",
        "    # Generate a grid of points with distance h between them\n",
        "    xx, yy = np.meshgrid(np.arange(x_min, x_max, resolution), np.arange(y_min, y_max, resolution))\n",
        "    # Predict the function value for the whole grid\n",
        "    Z = model.predict(np.c_[xx.ravel(), yy.ravel()])\n",
        "    Z = Z.reshape(xx.shape)\n",
        "    # Plot the contour and training examples\n",
        "    plt.contourf(xx, yy, Z, alpha=0.3, cmap=cmap)\n",
        "    plt.xlim(xx.min(), xx.max())\n",
        "    plt.ylim(yy.min(), yy.max())\n",
        "\n",
        "\n",
        "    for idx, cl in enumerate(np.unique(y)):\n",
        "        plt.scatter(X[y==cl, 0], X[y==cl, 1],  color=cmap(idx),edgecolors='k',marker=markers[idx],label=cl)\n",
        "\n"
      ]
    },
    {
      "cell_type": "code",
      "execution_count": null,
      "id": "5b55dfb6-f384-4637-9240-4e68232affe4",
      "metadata": {
        "id": "5b55dfb6-f384-4637-9240-4e68232affe4",
        "outputId": "998098ef-e1f5-4ff6-90ee-5ec47c49d64d"
      },
      "outputs": [
        {
          "data": {
            "image/png": "[encoded data removed]",
            "text/plain": [
              "<Figure size 640x480 with 1 Axes>"
            ]
          },
          "metadata": {},
          "output_type": "display_data"
        }
      ],
      "source": [
        "plot_decision_boundary(X_test, y_test, ada)\n",
        "plt.title(\"Test Data\")\n",
        "plt.xlabel('sepal length [cm]')\n",
        "plt.ylabel('petal length [cm]')\n",
        "plt.tight_layout()\n",
        "plt.show()"
      ]
    },
    {
      "cell_type": "code",
      "execution_count": null,
      "id": "1a639fa2-fca9-46fe-9319-6b660f0cf5cc",
      "metadata": {
        "id": "1a639fa2-fca9-46fe-9319-6b660f0cf5cc"
      },
      "outputs": [],
      "source": []
    }
  ],
  "metadata": {
    "kernelspec": {
      "display_name": "Python 3 (ipykernel)",
      "language": "python",
      "name": "python3"
    },
    "language_info": {
      "codemirror_mode": {
        "name": "ipython",
        "version": 3
      },
      "file_extension": ".py",
      "mimetype": "text/x-python",
      "name": "python",
      "nbconvert_exporter": "python",
      "pygments_lexer": "ipython3",
      "version": "3.11.8"
    },
    "colab": {
      "provenance": []
    }
  },
  "nbformat": 4,
  "nbformat_minor": 5
}