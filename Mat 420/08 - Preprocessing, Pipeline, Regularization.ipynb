{
 "cells": [
  {
   "cell_type": "code",
   "execution_count": 56,
   "id": "5a213111-2ff2-4b94-adeb-5524a6d500e8",
   "metadata": {},
   "outputs": [],
   "source": [
    "import numpy as np\n",
    "import matplotlib.pyplot as plt\n",
    "import seaborn as sns\n",
    "from sklearn import datasets\n",
    "from sklearn.feature_selection import SelectPercentile, chi2\n",
    "from sklearn.model_selection import train_test_split\n",
    "from sklearn.linear_model import LinearRegression, LogisticRegression\n",
    "from sklearn.preprocessing import StandardScaler, OneHotEncoder,RobustScaler\n",
    "from sklearn.metrics import confusion_matrix\n",
    "import pandas as pd\n",
    "\n",
    "from sklearn.preprocessing import PolynomialFeatures\n",
    "from sklearn.linear_model import Lasso, Ridge\n",
    "from sklearn.compose import ColumnTransformer\n",
    "from sklearn.impute import SimpleImputer\n",
    "from sklearn.pipeline import Pipeline\n",
    "from sklearn.preprocessing  import FunctionTransformer\n",
    "np.set_printoptions(precision=3, suppress=True)\n",
    "import warnings\n",
    "warnings.filterwarnings(\"ignore\")"
   ]
  },
  {
   "cell_type": "markdown",
   "id": "c5e71b14-44a6-4c4c-9305-b6d22ffe02cc",
   "metadata": {},
   "source": [
    "## Pre-processing\n",
    "\n",
    "In this set, we will look at pre-processing data. In other words, making our data nicer and easier to handle. \n",
    "\n",
    "Lets consider a titanic data set from `sklearn`:"
   ]
  },
  {
   "cell_type": "code",
   "execution_count": 2,
   "id": "9e842edd-d4f6-4024-b547-ce072196f621",
   "metadata": {},
   "outputs": [
    {
     "data": {
      "text/plain": [
       "(1309, 13)"
      ]
     },
     "execution_count": 2,
     "metadata": {},
     "output_type": "execute_result"
    }
   ],
   "source": [
    "dataset=datasets.fetch_openml(\"titanic\", version=1)\n",
    "X,y= dataset.data, dataset.target\n",
    "X.shape"
   ]
  },
  {
   "cell_type": "code",
   "execution_count": 95,
   "id": "17674e05-cccc-4842-b362-305059f825d6",
   "metadata": {},
   "outputs": [
    {
     "name": "stdout",
     "output_type": "stream",
     "text": [
      "**Author**: Frank E. Harrell Jr., Thomas Cason  \n",
      "**Source**: [Vanderbilt Biostatistics](http://biostat.mc.vanderbilt.edu/wiki/pub/Main/DataSets/titanic.html)  \n",
      "**Please cite**:   \n",
      "\n",
      "The original Titanic dataset, describing the survival status of individual passengers on the Titanic. The titanic data does not contain information from the crew, but it does contain actual ages of half of the passengers. The principal source for data about Titanic passengers is the Encyclopedia Titanica. The datasets used here were begun by a variety of researchers. One of the original sources is Eaton & Haas (1994) Titanic: Triumph and Tragedy, Patrick Stephens Ltd, which includes a passenger list created by many researchers and edited by Michael A. Findlay.\n",
      "\n",
      "Thomas Cason of UVa has greatly updated and improved the titanic data frame using the Encyclopedia Titanica and created the dataset here. Some duplicate passengers have been dropped, many errors corrected, many missing ages filled in, and new variables created. \n",
      "\n",
      "For more information about how this dataset was constructed:\n",
      "http://biostat.mc.vanderbilt.edu/wiki/pub/Main/DataSets/titanic3info.txt\n",
      "\n",
      "\n",
      "### Attribute information  \n",
      "\n",
      "The variables on our extracted dataset are pclass, survived, name, age, embarked, home.dest, room, ticket, boat, and sex. pclass refers to passenger class (1st, 2nd, 3rd), and is a proxy for socio-economic class. Age is in years, and some infants had fractional values. The titanic2 data frame has no missing data and includes records for the crew, but age is dichotomized at adult vs. child. These data were obtained from Robert Dawson, Saint Mary's University, E-mail. The variables are pclass, age, sex, survived. These data frames are useful for demonstrating many of the functions in Hmisc as well as demonstrating binary logistic regression analysis using the Design library. For more details and references see Simonoff, Jeffrey S (1997): The \"unusual episode\" and a second statistics course. J Statistics Education, Vol. 5 No. 1.\n",
      "\n",
      "Downloaded from openml.org.\n"
     ]
    }
   ],
   "source": [
    "print(dataset['DESCR'])"
   ]
  },
  {
   "cell_type": "code",
   "execution_count": 96,
   "id": "3d1a203a-0837-49f9-9757-e53c18bcb20e",
   "metadata": {},
   "outputs": [
    {
     "data": {
      "text/html": [
       "<div>\n",
       "<style scoped>\n",
       "    .dataframe tbody tr th:only-of-type {\n",
       "        vertical-align: middle;\n",
       "    }\n",
       "\n",
       "    .dataframe tbody tr th {\n",
       "        vertical-align: top;\n",
       "    }\n",
       "\n",
       "    .dataframe thead th {\n",
       "        text-align: right;\n",
       "    }\n",
       "</style>\n",
       "<table border=\"1\" class=\"dataframe\">\n",
       "  <thead>\n",
       "    <tr style=\"text-align: right;\">\n",
       "      <th></th>\n",
       "      <th>pclass</th>\n",
       "      <th>name</th>\n",
       "      <th>sex</th>\n",
       "      <th>age</th>\n",
       "      <th>sibsp</th>\n",
       "      <th>parch</th>\n",
       "      <th>ticket</th>\n",
       "      <th>fare</th>\n",
       "      <th>cabin</th>\n",
       "      <th>embarked</th>\n",
       "      <th>boat</th>\n",
       "      <th>body</th>\n",
       "      <th>home.dest</th>\n",
       "    </tr>\n",
       "  </thead>\n",
       "  <tbody>\n",
       "    <tr>\n",
       "      <th>0</th>\n",
       "      <td>1.0</td>\n",
       "      <td>Allen, Miss. Elisabeth Walton</td>\n",
       "      <td>female</td>\n",
       "      <td>29.0000</td>\n",
       "      <td>0.0</td>\n",
       "      <td>0.0</td>\n",
       "      <td>24160</td>\n",
       "      <td>211.3375</td>\n",
       "      <td>B5</td>\n",
       "      <td>S</td>\n",
       "      <td>2</td>\n",
       "      <td>NaN</td>\n",
       "      <td>St Louis, MO</td>\n",
       "    </tr>\n",
       "    <tr>\n",
       "      <th>1</th>\n",
       "      <td>1.0</td>\n",
       "      <td>Allison, Master. Hudson Trevor</td>\n",
       "      <td>male</td>\n",
       "      <td>0.9167</td>\n",
       "      <td>1.0</td>\n",
       "      <td>2.0</td>\n",
       "      <td>113781</td>\n",
       "      <td>151.5500</td>\n",
       "      <td>C22 C26</td>\n",
       "      <td>S</td>\n",
       "      <td>11</td>\n",
       "      <td>NaN</td>\n",
       "      <td>Montreal, PQ / Chesterville, ON</td>\n",
       "    </tr>\n",
       "    <tr>\n",
       "      <th>2</th>\n",
       "      <td>1.0</td>\n",
       "      <td>Allison, Miss. Helen Loraine</td>\n",
       "      <td>female</td>\n",
       "      <td>2.0000</td>\n",
       "      <td>1.0</td>\n",
       "      <td>2.0</td>\n",
       "      <td>113781</td>\n",
       "      <td>151.5500</td>\n",
       "      <td>C22 C26</td>\n",
       "      <td>S</td>\n",
       "      <td>NaN</td>\n",
       "      <td>NaN</td>\n",
       "      <td>Montreal, PQ / Chesterville, ON</td>\n",
       "    </tr>\n",
       "    <tr>\n",
       "      <th>3</th>\n",
       "      <td>1.0</td>\n",
       "      <td>Allison, Mr. Hudson Joshua Creighton</td>\n",
       "      <td>male</td>\n",
       "      <td>30.0000</td>\n",
       "      <td>1.0</td>\n",
       "      <td>2.0</td>\n",
       "      <td>113781</td>\n",
       "      <td>151.5500</td>\n",
       "      <td>C22 C26</td>\n",
       "      <td>S</td>\n",
       "      <td>NaN</td>\n",
       "      <td>135.0</td>\n",
       "      <td>Montreal, PQ / Chesterville, ON</td>\n",
       "    </tr>\n",
       "    <tr>\n",
       "      <th>4</th>\n",
       "      <td>1.0</td>\n",
       "      <td>Allison, Mrs. Hudson J C (Bessie Waldo Daniels)</td>\n",
       "      <td>female</td>\n",
       "      <td>25.0000</td>\n",
       "      <td>1.0</td>\n",
       "      <td>2.0</td>\n",
       "      <td>113781</td>\n",
       "      <td>151.5500</td>\n",
       "      <td>C22 C26</td>\n",
       "      <td>S</td>\n",
       "      <td>NaN</td>\n",
       "      <td>NaN</td>\n",
       "      <td>Montreal, PQ / Chesterville, ON</td>\n",
       "    </tr>\n",
       "    <tr>\n",
       "      <th>...</th>\n",
       "      <td>...</td>\n",
       "      <td>...</td>\n",
       "      <td>...</td>\n",
       "      <td>...</td>\n",
       "      <td>...</td>\n",
       "      <td>...</td>\n",
       "      <td>...</td>\n",
       "      <td>...</td>\n",
       "      <td>...</td>\n",
       "      <td>...</td>\n",
       "      <td>...</td>\n",
       "      <td>...</td>\n",
       "      <td>...</td>\n",
       "    </tr>\n",
       "    <tr>\n",
       "      <th>1304</th>\n",
       "      <td>3.0</td>\n",
       "      <td>Zabour, Miss. Hileni</td>\n",
       "      <td>female</td>\n",
       "      <td>14.5000</td>\n",
       "      <td>1.0</td>\n",
       "      <td>0.0</td>\n",
       "      <td>2665</td>\n",
       "      <td>14.4542</td>\n",
       "      <td>NaN</td>\n",
       "      <td>C</td>\n",
       "      <td>NaN</td>\n",
       "      <td>328.0</td>\n",
       "      <td>NaN</td>\n",
       "    </tr>\n",
       "    <tr>\n",
       "      <th>1305</th>\n",
       "      <td>3.0</td>\n",
       "      <td>Zabour, Miss. Thamine</td>\n",
       "      <td>female</td>\n",
       "      <td>NaN</td>\n",
       "      <td>1.0</td>\n",
       "      <td>0.0</td>\n",
       "      <td>2665</td>\n",
       "      <td>14.4542</td>\n",
       "      <td>NaN</td>\n",
       "      <td>C</td>\n",
       "      <td>NaN</td>\n",
       "      <td>NaN</td>\n",
       "      <td>NaN</td>\n",
       "    </tr>\n",
       "    <tr>\n",
       "      <th>1306</th>\n",
       "      <td>3.0</td>\n",
       "      <td>Zakarian, Mr. Mapriededer</td>\n",
       "      <td>male</td>\n",
       "      <td>26.5000</td>\n",
       "      <td>0.0</td>\n",
       "      <td>0.0</td>\n",
       "      <td>2656</td>\n",
       "      <td>7.2250</td>\n",
       "      <td>NaN</td>\n",
       "      <td>C</td>\n",
       "      <td>NaN</td>\n",
       "      <td>304.0</td>\n",
       "      <td>NaN</td>\n",
       "    </tr>\n",
       "    <tr>\n",
       "      <th>1307</th>\n",
       "      <td>3.0</td>\n",
       "      <td>Zakarian, Mr. Ortin</td>\n",
       "      <td>male</td>\n",
       "      <td>27.0000</td>\n",
       "      <td>0.0</td>\n",
       "      <td>0.0</td>\n",
       "      <td>2670</td>\n",
       "      <td>7.2250</td>\n",
       "      <td>NaN</td>\n",
       "      <td>C</td>\n",
       "      <td>NaN</td>\n",
       "      <td>NaN</td>\n",
       "      <td>NaN</td>\n",
       "    </tr>\n",
       "    <tr>\n",
       "      <th>1308</th>\n",
       "      <td>3.0</td>\n",
       "      <td>Zimmerman, Mr. Leo</td>\n",
       "      <td>male</td>\n",
       "      <td>29.0000</td>\n",
       "      <td>0.0</td>\n",
       "      <td>0.0</td>\n",
       "      <td>315082</td>\n",
       "      <td>7.8750</td>\n",
       "      <td>NaN</td>\n",
       "      <td>S</td>\n",
       "      <td>NaN</td>\n",
       "      <td>NaN</td>\n",
       "      <td>NaN</td>\n",
       "    </tr>\n",
       "  </tbody>\n",
       "</table>\n",
       "<p>1309 rows × 13 columns</p>\n",
       "</div>"
      ],
      "text/plain": [
       "      pclass                                             name     sex  \\\n",
       "0        1.0                    Allen, Miss. Elisabeth Walton  female   \n",
       "1        1.0                   Allison, Master. Hudson Trevor    male   \n",
       "2        1.0                     Allison, Miss. Helen Loraine  female   \n",
       "3        1.0             Allison, Mr. Hudson Joshua Creighton    male   \n",
       "4        1.0  Allison, Mrs. Hudson J C (Bessie Waldo Daniels)  female   \n",
       "...      ...                                              ...     ...   \n",
       "1304     3.0                             Zabour, Miss. Hileni  female   \n",
       "1305     3.0                            Zabour, Miss. Thamine  female   \n",
       "1306     3.0                        Zakarian, Mr. Mapriededer    male   \n",
       "1307     3.0                              Zakarian, Mr. Ortin    male   \n",
       "1308     3.0                               Zimmerman, Mr. Leo    male   \n",
       "\n",
       "          age  sibsp  parch  ticket      fare    cabin embarked boat   body  \\\n",
       "0     29.0000    0.0    0.0   24160  211.3375       B5        S    2    NaN   \n",
       "1      0.9167    1.0    2.0  113781  151.5500  C22 C26        S   11    NaN   \n",
       "2      2.0000    1.0    2.0  113781  151.5500  C22 C26        S  NaN    NaN   \n",
       "3     30.0000    1.0    2.0  113781  151.5500  C22 C26        S  NaN  135.0   \n",
       "4     25.0000    1.0    2.0  113781  151.5500  C22 C26        S  NaN    NaN   \n",
       "...       ...    ...    ...     ...       ...      ...      ...  ...    ...   \n",
       "1304  14.5000    1.0    0.0    2665   14.4542      NaN        C  NaN  328.0   \n",
       "1305      NaN    1.0    0.0    2665   14.4542      NaN        C  NaN    NaN   \n",
       "1306  26.5000    0.0    0.0    2656    7.2250      NaN        C  NaN  304.0   \n",
       "1307  27.0000    0.0    0.0    2670    7.2250      NaN        C  NaN    NaN   \n",
       "1308  29.0000    0.0    0.0  315082    7.8750      NaN        S  NaN    NaN   \n",
       "\n",
       "                            home.dest  \n",
       "0                        St Louis, MO  \n",
       "1     Montreal, PQ / Chesterville, ON  \n",
       "2     Montreal, PQ / Chesterville, ON  \n",
       "3     Montreal, PQ / Chesterville, ON  \n",
       "4     Montreal, PQ / Chesterville, ON  \n",
       "...                               ...  \n",
       "1304                              NaN  \n",
       "1305                              NaN  \n",
       "1306                              NaN  \n",
       "1307                              NaN  \n",
       "1308                              NaN  \n",
       "\n",
       "[1309 rows x 13 columns]"
      ]
     },
     "execution_count": 96,
     "metadata": {},
     "output_type": "execute_result"
    }
   ],
   "source": [
    "X"
   ]
  },
  {
   "cell_type": "code",
   "execution_count": 97,
   "id": "13819850-6438-4c0c-a4c4-244719cf5a12",
   "metadata": {},
   "outputs": [
    {
     "data": {
      "text/plain": [
       "0    1\n",
       "1    1\n",
       "2    0\n",
       "3    0\n",
       "4    0\n",
       "Name: survived, dtype: category\n",
       "Categories (2, object): ['0', '1']"
      ]
     },
     "execution_count": 97,
     "metadata": {},
     "output_type": "execute_result"
    }
   ],
   "source": [
    "y.head()"
   ]
  },
  {
   "cell_type": "code",
   "execution_count": 98,
   "id": "e07cb47b-7ba7-422a-91ac-ef73698fdef0",
   "metadata": {},
   "outputs": [
    {
     "name": "stdout",
     "output_type": "stream",
     "text": [
      "<class 'pandas.core.frame.DataFrame'>\n",
      "RangeIndex: 1309 entries, 0 to 1308\n",
      "Data columns (total 13 columns):\n",
      " #   Column     Non-Null Count  Dtype   \n",
      "---  ------     --------------  -----   \n",
      " 0   pclass     1309 non-null   float64 \n",
      " 1   name       1309 non-null   object  \n",
      " 2   sex        1309 non-null   category\n",
      " 3   age        1046 non-null   float64 \n",
      " 4   sibsp      1309 non-null   float64 \n",
      " 5   parch      1309 non-null   float64 \n",
      " 6   ticket     1309 non-null   object  \n",
      " 7   fare       1308 non-null   float64 \n",
      " 8   cabin      295 non-null    object  \n",
      " 9   embarked   1307 non-null   category\n",
      " 10  boat       486 non-null    object  \n",
      " 11  body       121 non-null    float64 \n",
      " 12  home.dest  745 non-null    object  \n",
      "dtypes: category(2), float64(6), object(5)\n",
      "memory usage: 115.4+ KB\n"
     ]
    }
   ],
   "source": [
    "dataset.data.info()"
   ]
  },
  {
   "cell_type": "markdown",
   "id": "7f9c2fad-7667-493f-813e-85402a79a458",
   "metadata": {},
   "source": [
    "As you can see we have different types of data. Moreover, we can see some data is missing."
   ]
  },
  {
   "cell_type": "code",
   "execution_count": 3,
   "id": "76849e5c-4d09-46a9-8734-eebf99d140ff",
   "metadata": {},
   "outputs": [
    {
     "data": {
      "text/plain": [
       "pclass          0\n",
       "name            0\n",
       "sex             0\n",
       "age           263\n",
       "sibsp           0\n",
       "parch           0\n",
       "ticket          0\n",
       "fare            1\n",
       "cabin        1014\n",
       "embarked        2\n",
       "boat          823\n",
       "body         1188\n",
       "home.dest     564\n",
       "dtype: int64"
      ]
     },
     "execution_count": 3,
     "metadata": {},
     "output_type": "execute_result"
    }
   ],
   "source": [
    "X.isna().sum()"
   ]
  },
  {
   "cell_type": "markdown",
   "id": "02659373-a4b1-4550-ad95-776d86598606",
   "metadata": {},
   "source": [
    "### Missing Data\n",
    "\n",
    "As we can see, there are a lot of missing data. There are a few ways to deal with that:\n",
    "\n",
    "1. If you have a small amount of missing data relative to the size of your dataset, deleting data points with missing data is an easy way to deal with this.\n",
    "2. If you have a feature with a lot of data missing, then deleting that feature might work well, since it can't be used to predict much.\n",
    "3. Another way to deal with missing data is to use imputer. This is when you replacing missing values with some kind of centralizer (mean, median, etc). This can work if not too many values missing from the feature. Note that using imputer is not always a good choice, think if central values are most commmon values.\n",
    "4. If you are dealing with time series, forward fill or backward fill can work. Here you replace missing values with existing value either either before or after missing position. This of course is not a good choice if you have large gaps of missing values. (Ex. `df['FeatureName'].fillna(method='ffill')` or `df['FeatureName'].fillna(method='bfill')` )\n",
    "\n",
    "In the above Titanic set, we have 1309 datapoint. Notice that features like \"cabin\", \"boat\" and \"body\" are missing majority of values. These would be ok features to ignore.\n",
    "\n",
    "Now let's focus on \"age\" and \"fare\" columns. Here I will use medians to replace missing values. As with other models, `fit` calculates needed changes, `transform` applies the changes and `fit_transform` does both at the same time.\n"
   ]
  },
  {
   "cell_type": "code",
   "execution_count": 19,
   "id": "fda881f8-3f61-4e3d-9ada-4ddf19d2fd9c",
   "metadata": {},
   "outputs": [
    {
     "data": {
      "text/plain": [
       "fare    0\n",
       "age     0\n",
       "dtype: int64"
      ]
     },
     "execution_count": 19,
     "metadata": {},
     "output_type": "execute_result"
    }
   ],
   "source": [
    "X_num=X.loc[:,[\"fare\", \"age\"]]\n",
    "imp_median = SimpleImputer(strategy='median')\n",
    "X_num.iloc[:,:]=imp_median.fit_transform(X_num.iloc[:,:])\n",
    "X_num.isna().sum()"
   ]
  },
  {
   "cell_type": "markdown",
   "id": "90e341d5-f889-4523-af67-e385c410c368",
   "metadata": {},
   "source": [
    "We can use `mean` instead of median for real type data."
   ]
  },
  {
   "cell_type": "markdown",
   "id": "f33003d0-d6e3-4025-8c7d-b1436e2253a8",
   "metadata": {},
   "source": [
    "For a lot of data sets, it is a good idea to standardize or normalize your features. This means to rescale each feature so it has properties of the standard normal distribution. This is quite useful if your features have different ranges. Without rescaling normally features with large range will dominate. \n",
    "\n",
    "In our case the values of \"fare\" and \"age\" are too different. Fare can reach over values over 200, but age can't. So, we can't compare them fairly. To fix that we can use scaling. Two common ways to scale the data are normalization and standartization:\n",
    "\n",
    "1. In stardatization, we assume normal distribution and we standartize to standard normal distribution by applying $$z^{(i)}=\\frac{x^{(i)}-\\mu}{\\sigma}$$ to the whole data. \n",
    "\n",
    "2. In normalization we find maximum and minimum of each feature and normalize as follows:\n",
    "$$ \\hat{x}^{(i)}=\\frac{x^{(i)}-\\min}{\\max-\\min}.$$\n",
    "\n",
    "Your test data has to be scaled as well. However, you need to use the parameters from the train data instead. In other words, if we used standardization, we should use mean and standart deviation of the training set to standardize the testing set.\n",
    "\n",
    "Here I will use standartization.\n",
    "In Python to do this, normally we create Standard Scaler and use it on our training set to find means and standard deviation of each column (`fit`) and then standardize it (`transform`). Then use the same parameters (mean and std. deviation from training set) and standardize the test set (so only `transform`).\n",
    "\n",
    "So let's standartize our same two columns."
   ]
  },
  {
   "cell_type": "code",
   "execution_count": 20,
   "id": "37433ecd-eb36-437e-abab-3a72f6372dac",
   "metadata": {},
   "outputs": [
    {
     "data": {
      "text/html": [
       "<div>\n",
       "<style scoped>\n",
       "    .dataframe tbody tr th:only-of-type {\n",
       "        vertical-align: middle;\n",
       "    }\n",
       "\n",
       "    .dataframe tbody tr th {\n",
       "        vertical-align: top;\n",
       "    }\n",
       "\n",
       "    .dataframe thead th {\n",
       "        text-align: right;\n",
       "    }\n",
       "</style>\n",
       "<table border=\"1\" class=\"dataframe\">\n",
       "  <thead>\n",
       "    <tr style=\"text-align: right;\">\n",
       "      <th></th>\n",
       "      <th>fare</th>\n",
       "      <th>age</th>\n",
       "    </tr>\n",
       "  </thead>\n",
       "  <tbody>\n",
       "    <tr>\n",
       "      <th>0</th>\n",
       "      <td>3.442584</td>\n",
       "      <td>-0.039005</td>\n",
       "    </tr>\n",
       "    <tr>\n",
       "      <th>1</th>\n",
       "      <td>2.286639</td>\n",
       "      <td>-2.215952</td>\n",
       "    </tr>\n",
       "    <tr>\n",
       "      <th>2</th>\n",
       "      <td>2.286639</td>\n",
       "      <td>-2.131977</td>\n",
       "    </tr>\n",
       "    <tr>\n",
       "      <th>3</th>\n",
       "      <td>2.286639</td>\n",
       "      <td>0.038512</td>\n",
       "    </tr>\n",
       "    <tr>\n",
       "      <th>4</th>\n",
       "      <td>2.286639</td>\n",
       "      <td>-0.349075</td>\n",
       "    </tr>\n",
       "    <tr>\n",
       "      <th>...</th>\n",
       "      <td>...</td>\n",
       "      <td>...</td>\n",
       "    </tr>\n",
       "    <tr>\n",
       "      <th>1304</th>\n",
       "      <td>-0.364003</td>\n",
       "      <td>-1.163009</td>\n",
       "    </tr>\n",
       "    <tr>\n",
       "      <th>1305</th>\n",
       "      <td>-0.364003</td>\n",
       "      <td>-0.116523</td>\n",
       "    </tr>\n",
       "    <tr>\n",
       "      <th>1306</th>\n",
       "      <td>-0.503774</td>\n",
       "      <td>-0.232799</td>\n",
       "    </tr>\n",
       "    <tr>\n",
       "      <th>1307</th>\n",
       "      <td>-0.503774</td>\n",
       "      <td>-0.194040</td>\n",
       "    </tr>\n",
       "    <tr>\n",
       "      <th>1308</th>\n",
       "      <td>-0.491207</td>\n",
       "      <td>-0.039005</td>\n",
       "    </tr>\n",
       "  </tbody>\n",
       "</table>\n",
       "<p>1309 rows × 2 columns</p>\n",
       "</div>"
      ],
      "text/plain": [
       "          fare       age\n",
       "0     3.442584 -0.039005\n",
       "1     2.286639 -2.215952\n",
       "2     2.286639 -2.131977\n",
       "3     2.286639  0.038512\n",
       "4     2.286639 -0.349075\n",
       "...        ...       ...\n",
       "1304 -0.364003 -1.163009\n",
       "1305 -0.364003 -0.116523\n",
       "1306 -0.503774 -0.232799\n",
       "1307 -0.503774 -0.194040\n",
       "1308 -0.491207 -0.039005\n",
       "\n",
       "[1309 rows x 2 columns]"
      ]
     },
     "execution_count": 20,
     "metadata": {},
     "output_type": "execute_result"
    }
   ],
   "source": [
    "sc=StandardScaler()\n",
    "\n",
    "X_num.iloc[:,:]=sc.fit_transform(X_num.iloc[:,:])\n",
    "X_num"
   ]
  },
  {
   "cell_type": "markdown",
   "id": "f8e5047c-6578-4bff-9504-258f2a29ffa4",
   "metadata": {},
   "source": [
    "Standard scaler is most common one and it works well with regression models, SVM, PCA, etc. \n",
    "\n",
    "To apply normalization, you can use `.MinMaxScaler()` from the same `sklearn.preprocessing` library. If you think you data is far from being normal, this might be scaler to use. \n",
    "\n",
    "Both above scalers are sensitive to outliers. If you have alot of outliers, using Robust Scaler is preferred: `.RobustScaler()`: $$\\hat{x}^{(i)}=\\frac{x^{(i)}-Q_1}{Q_3-Q_1},$$\n",
    "where $Q_1$ and $Q_3$ are first and third quartiles. Main drawback of this method is that it doesnt work well with very skewed data."
   ]
  },
  {
   "cell_type": "markdown",
   "id": "87710c8b-b840-4093-a1a8-12cf74992c1a",
   "metadata": {},
   "source": [
    "### Outliers\n",
    "\n",
    "Sometimes we would like to see if we have outliers and/or remove outliers. There are a few ways of doing it. We can look at the boxplot that can show us our outliers. Here how to understand the box plot:\n",
    "1. Middle line inside the box is median\n",
    "2. The bottom and top line of the box is First and Third Quartile, and the distance berween these two quartiles is called IQR\n",
    "3. Each whisker has size equal to 1.5*IQR.\n",
    "4. Anything outside the whiskers is considered to be outlier."
   ]
  },
  {
   "cell_type": "code",
   "execution_count": 21,
   "id": "64e4240d-8776-419d-b9f7-af6e76bb7649",
   "metadata": {},
   "outputs": [
    {
     "data": {
      "image/png": "[encoded data removed]",
      "text/plain": [
       "<Figure size 640x480 with 1 Axes>"
      ]
     },
     "metadata": {},
     "output_type": "display_data"
    }
   ],
   "source": [
    "sns.boxplot(x=\"variable\", y=\"value\", data=pd.melt(X_num))\n",
    "\n",
    "plt.show()"
   ]
  },
  {
   "cell_type": "markdown",
   "id": "7d56c704-5b64-4452-a578-1765ba48ce7d",
   "metadata": {},
   "source": [
    "Another way to see outliers is to use z-score. Generally, if the absolute value of z-score is higher than 3 or 3.5, the data point is considered to be an outlier."
   ]
  },
  {
   "cell_type": "code",
   "execution_count": 25,
   "id": "00c54035-af2f-43ef-b601-d7c7058b92ee",
   "metadata": {},
   "outputs": [
    {
     "data": {
      "text/plain": [
       "fare    31\n",
       "age     31\n",
       "dtype: int64"
      ]
     },
     "execution_count": 25,
     "metadata": {},
     "output_type": "execute_result"
    }
   ],
   "source": [
    "Outliers=X_num[(~X_num['fare'].between(-3.5,3.5)) | (~X_num['age'].between(-3.5,3.5))]\n",
    "Outliers.count()"
   ]
  },
  {
   "cell_type": "markdown",
   "id": "9dff6a50-2294-43ba-bcf1-91286fd4f91b",
   "metadata": {},
   "source": [
    "Let's remove these points from X_num:\""
   ]
  },
  {
   "cell_type": "code",
   "execution_count": 26,
   "id": "b3c7840a-3c2a-4de4-a24e-05c5ffe74cfd",
   "metadata": {},
   "outputs": [
    {
     "data": {
      "text/html": [
       "<div>\n",
       "<style scoped>\n",
       "    .dataframe tbody tr th:only-of-type {\n",
       "        vertical-align: middle;\n",
       "    }\n",
       "\n",
       "    .dataframe tbody tr th {\n",
       "        vertical-align: top;\n",
       "    }\n",
       "\n",
       "    .dataframe thead th {\n",
       "        text-align: right;\n",
       "    }\n",
       "</style>\n",
       "<table border=\"1\" class=\"dataframe\">\n",
       "  <thead>\n",
       "    <tr style=\"text-align: right;\">\n",
       "      <th></th>\n",
       "      <th>fare</th>\n",
       "      <th>age</th>\n",
       "    </tr>\n",
       "  </thead>\n",
       "  <tbody>\n",
       "    <tr>\n",
       "      <th>0</th>\n",
       "      <td>3.442584</td>\n",
       "      <td>-0.039005</td>\n",
       "    </tr>\n",
       "    <tr>\n",
       "      <th>1</th>\n",
       "      <td>2.286639</td>\n",
       "      <td>-2.215952</td>\n",
       "    </tr>\n",
       "    <tr>\n",
       "      <th>2</th>\n",
       "      <td>2.286639</td>\n",
       "      <td>-2.131977</td>\n",
       "    </tr>\n",
       "    <tr>\n",
       "      <th>3</th>\n",
       "      <td>2.286639</td>\n",
       "      <td>0.038512</td>\n",
       "    </tr>\n",
       "    <tr>\n",
       "      <th>4</th>\n",
       "      <td>2.286639</td>\n",
       "      <td>-0.349075</td>\n",
       "    </tr>\n",
       "    <tr>\n",
       "      <th>...</th>\n",
       "      <td>...</td>\n",
       "      <td>...</td>\n",
       "    </tr>\n",
       "    <tr>\n",
       "      <th>1304</th>\n",
       "      <td>-0.364003</td>\n",
       "      <td>-1.163009</td>\n",
       "    </tr>\n",
       "    <tr>\n",
       "      <th>1305</th>\n",
       "      <td>-0.364003</td>\n",
       "      <td>-0.116523</td>\n",
       "    </tr>\n",
       "    <tr>\n",
       "      <th>1306</th>\n",
       "      <td>-0.503774</td>\n",
       "      <td>-0.232799</td>\n",
       "    </tr>\n",
       "    <tr>\n",
       "      <th>1307</th>\n",
       "      <td>-0.503774</td>\n",
       "      <td>-0.194040</td>\n",
       "    </tr>\n",
       "    <tr>\n",
       "      <th>1308</th>\n",
       "      <td>-0.491207</td>\n",
       "      <td>-0.039005</td>\n",
       "    </tr>\n",
       "  </tbody>\n",
       "</table>\n",
       "<p>1278 rows × 2 columns</p>\n",
       "</div>"
      ],
      "text/plain": [
       "          fare       age\n",
       "0     3.442584 -0.039005\n",
       "1     2.286639 -2.215952\n",
       "2     2.286639 -2.131977\n",
       "3     2.286639  0.038512\n",
       "4     2.286639 -0.349075\n",
       "...        ...       ...\n",
       "1304 -0.364003 -1.163009\n",
       "1305 -0.364003 -0.116523\n",
       "1306 -0.503774 -0.232799\n",
       "1307 -0.503774 -0.194040\n",
       "1308 -0.491207 -0.039005\n",
       "\n",
       "[1278 rows x 2 columns]"
      ]
     },
     "execution_count": 26,
     "metadata": {},
     "output_type": "execute_result"
    }
   ],
   "source": [
    "X_num=X_num[(X_num['fare'].between(-3.5,3.5)) & (X_num['age'].between(-3.5,3.5))]\n",
    "X_num"
   ]
  },
  {
   "cell_type": "markdown",
   "id": "500e1a12-c843-4d25-badc-32a4c2109b68",
   "metadata": {},
   "source": [
    "Other methods of detecting outliers are:\n",
    "\n",
    "1. Isolation forest, which is based on Random Forest Model and is a good way of doing it if your dataset is huge and have many features.\n",
    "\n",
    "2. DBScan, analysis clustering of your data to find outliers.\n",
    "\n",
    "What to do with outliers?\n",
    "Sometimes removing them is ok. Sometimes, replacing them with some values (mean, median, $Q1-1.5*IQR$, $Q3+1.5*IQR$). Sometimes we just keep them. Usually it depends on dataset and why we have outliers there. "
   ]
  },
  {
   "cell_type": "markdown",
   "id": "d609a57d-6af1-4fcf-9e60-b0a717e1451c",
   "metadata": {},
   "source": [
    "### Categorical data\n",
    "\n",
    "Most models use numerical values to train. So how do we deal with categorical data? \n",
    "If the data is binary, we can always use \"0\" and \"1\". If we have 3 categories, we can try using \"0\", \"1\" and \"2\", but that may lead to problems. This can mean that category \"1\" is between categories \"0\" and \"2\", but in reality there shouldn't be order to our categories. One solution to this is \"One Hot Encoding\". Here we create an array for each data point full of zeros and a single \"1\" that represents category. In other words, instead of \"0\", \"1\" and \"2\", we have \"[1,0,0]\", \"[0,1,0]\" and \"[0,0,1]\". \n",
    "\n",
    "Let's take \"embarked\" amnd \"sex\" features. In \"sex\" feature we have only 2 values, so we will map them to 0 and 1 like we did in Tutorial 3. For \"embarked\" feature we will use One Hot Encoding. "
   ]
  },
  {
   "cell_type": "code",
   "execution_count": 27,
   "id": "30133e93-bdd1-472e-a541-f2f7d0c7be77",
   "metadata": {},
   "outputs": [
    {
     "data": {
      "text/html": [
       "<div>\n",
       "<style scoped>\n",
       "    .dataframe tbody tr th:only-of-type {\n",
       "        vertical-align: middle;\n",
       "    }\n",
       "\n",
       "    .dataframe tbody tr th {\n",
       "        vertical-align: top;\n",
       "    }\n",
       "\n",
       "    .dataframe thead th {\n",
       "        text-align: right;\n",
       "    }\n",
       "</style>\n",
       "<table border=\"1\" class=\"dataframe\">\n",
       "  <thead>\n",
       "    <tr style=\"text-align: right;\">\n",
       "      <th></th>\n",
       "      <th>sex</th>\n",
       "      <th>embarked_C</th>\n",
       "      <th>embarked_Q</th>\n",
       "      <th>embarked_S</th>\n",
       "      <th>embarked_nan</th>\n",
       "    </tr>\n",
       "  </thead>\n",
       "  <tbody>\n",
       "    <tr>\n",
       "      <th>0</th>\n",
       "      <td>female</td>\n",
       "      <td>0.0</td>\n",
       "      <td>0.0</td>\n",
       "      <td>1.0</td>\n",
       "      <td>0.0</td>\n",
       "    </tr>\n",
       "    <tr>\n",
       "      <th>1</th>\n",
       "      <td>male</td>\n",
       "      <td>0.0</td>\n",
       "      <td>0.0</td>\n",
       "      <td>1.0</td>\n",
       "      <td>0.0</td>\n",
       "    </tr>\n",
       "    <tr>\n",
       "      <th>2</th>\n",
       "      <td>female</td>\n",
       "      <td>0.0</td>\n",
       "      <td>0.0</td>\n",
       "      <td>1.0</td>\n",
       "      <td>0.0</td>\n",
       "    </tr>\n",
       "    <tr>\n",
       "      <th>3</th>\n",
       "      <td>male</td>\n",
       "      <td>0.0</td>\n",
       "      <td>0.0</td>\n",
       "      <td>1.0</td>\n",
       "      <td>0.0</td>\n",
       "    </tr>\n",
       "    <tr>\n",
       "      <th>4</th>\n",
       "      <td>female</td>\n",
       "      <td>0.0</td>\n",
       "      <td>0.0</td>\n",
       "      <td>1.0</td>\n",
       "      <td>0.0</td>\n",
       "    </tr>\n",
       "    <tr>\n",
       "      <th>...</th>\n",
       "      <td>...</td>\n",
       "      <td>...</td>\n",
       "      <td>...</td>\n",
       "      <td>...</td>\n",
       "      <td>...</td>\n",
       "    </tr>\n",
       "    <tr>\n",
       "      <th>1304</th>\n",
       "      <td>female</td>\n",
       "      <td>1.0</td>\n",
       "      <td>0.0</td>\n",
       "      <td>0.0</td>\n",
       "      <td>0.0</td>\n",
       "    </tr>\n",
       "    <tr>\n",
       "      <th>1305</th>\n",
       "      <td>female</td>\n",
       "      <td>1.0</td>\n",
       "      <td>0.0</td>\n",
       "      <td>0.0</td>\n",
       "      <td>0.0</td>\n",
       "    </tr>\n",
       "    <tr>\n",
       "      <th>1306</th>\n",
       "      <td>male</td>\n",
       "      <td>1.0</td>\n",
       "      <td>0.0</td>\n",
       "      <td>0.0</td>\n",
       "      <td>0.0</td>\n",
       "    </tr>\n",
       "    <tr>\n",
       "      <th>1307</th>\n",
       "      <td>male</td>\n",
       "      <td>1.0</td>\n",
       "      <td>0.0</td>\n",
       "      <td>0.0</td>\n",
       "      <td>0.0</td>\n",
       "    </tr>\n",
       "    <tr>\n",
       "      <th>1308</th>\n",
       "      <td>male</td>\n",
       "      <td>0.0</td>\n",
       "      <td>0.0</td>\n",
       "      <td>1.0</td>\n",
       "      <td>0.0</td>\n",
       "    </tr>\n",
       "  </tbody>\n",
       "</table>\n",
       "<p>1309 rows × 5 columns</p>\n",
       "</div>"
      ],
      "text/plain": [
       "         sex  embarked_C  embarked_Q  embarked_S  embarked_nan\n",
       "0     female         0.0         0.0         1.0           0.0\n",
       "1       male         0.0         0.0         1.0           0.0\n",
       "2     female         0.0         0.0         1.0           0.0\n",
       "3       male         0.0         0.0         1.0           0.0\n",
       "4     female         0.0         0.0         1.0           0.0\n",
       "...      ...         ...         ...         ...           ...\n",
       "1304  female         1.0         0.0         0.0           0.0\n",
       "1305  female         1.0         0.0         0.0           0.0\n",
       "1306    male         1.0         0.0         0.0           0.0\n",
       "1307    male         1.0         0.0         0.0           0.0\n",
       "1308    male         0.0         0.0         1.0           0.0\n",
       "\n",
       "[1309 rows x 5 columns]"
      ]
     },
     "execution_count": 27,
     "metadata": {},
     "output_type": "execute_result"
    }
   ],
   "source": [
    "X_cat=X.loc[:,[\"embarked\", \"sex\"]]\n",
    "\n",
    "onehotenc=OneHotEncoder(sparse_output=False,handle_unknown='ignore')\n",
    "\n",
    "X_cat_emb=onehotenc.fit_transform(X_cat.loc[:,[\"embarked\"]])\n",
    "one_hot_df = pd.DataFrame(X_cat_emb, columns=onehotenc.get_feature_names_out([\"embarked\"]))\n",
    "\n",
    "df_encoded = pd.concat([X_cat, one_hot_df], axis=1)\n",
    "\n",
    "df_encoded = df_encoded.drop([\"embarked\"], axis=1)\n",
    "df_encoded "
   ]
  },
  {
   "cell_type": "markdown",
   "id": "41ed864e-6b8d-420c-9a26-2db70f98ef12",
   "metadata": {},
   "source": [
    "As a bonus, it dealt with a couple of missing values for us as well."
   ]
  },
  {
   "cell_type": "markdown",
   "id": "fd9498fe-49f6-46c8-bf1f-608287df05ce",
   "metadata": {},
   "source": [
    "For binary in `sex` column, lets replace it with 0 and 1:"
   ]
  },
  {
   "cell_type": "code",
   "execution_count": 28,
   "id": "e0dd7dd0-db6b-4e6f-b654-bf662e295785",
   "metadata": {},
   "outputs": [
    {
     "data": {
      "text/html": [
       "<div>\n",
       "<style scoped>\n",
       "    .dataframe tbody tr th:only-of-type {\n",
       "        vertical-align: middle;\n",
       "    }\n",
       "\n",
       "    .dataframe tbody tr th {\n",
       "        vertical-align: top;\n",
       "    }\n",
       "\n",
       "    .dataframe thead th {\n",
       "        text-align: right;\n",
       "    }\n",
       "</style>\n",
       "<table border=\"1\" class=\"dataframe\">\n",
       "  <thead>\n",
       "    <tr style=\"text-align: right;\">\n",
       "      <th></th>\n",
       "      <th>sex</th>\n",
       "      <th>embarked_C</th>\n",
       "      <th>embarked_Q</th>\n",
       "      <th>embarked_S</th>\n",
       "      <th>embarked_nan</th>\n",
       "    </tr>\n",
       "  </thead>\n",
       "  <tbody>\n",
       "    <tr>\n",
       "      <th>0</th>\n",
       "      <td>1</td>\n",
       "      <td>0.0</td>\n",
       "      <td>0.0</td>\n",
       "      <td>1.0</td>\n",
       "      <td>0.0</td>\n",
       "    </tr>\n",
       "    <tr>\n",
       "      <th>1</th>\n",
       "      <td>0</td>\n",
       "      <td>0.0</td>\n",
       "      <td>0.0</td>\n",
       "      <td>1.0</td>\n",
       "      <td>0.0</td>\n",
       "    </tr>\n",
       "    <tr>\n",
       "      <th>2</th>\n",
       "      <td>1</td>\n",
       "      <td>0.0</td>\n",
       "      <td>0.0</td>\n",
       "      <td>1.0</td>\n",
       "      <td>0.0</td>\n",
       "    </tr>\n",
       "    <tr>\n",
       "      <th>3</th>\n",
       "      <td>0</td>\n",
       "      <td>0.0</td>\n",
       "      <td>0.0</td>\n",
       "      <td>1.0</td>\n",
       "      <td>0.0</td>\n",
       "    </tr>\n",
       "    <tr>\n",
       "      <th>4</th>\n",
       "      <td>1</td>\n",
       "      <td>0.0</td>\n",
       "      <td>0.0</td>\n",
       "      <td>1.0</td>\n",
       "      <td>0.0</td>\n",
       "    </tr>\n",
       "    <tr>\n",
       "      <th>...</th>\n",
       "      <td>...</td>\n",
       "      <td>...</td>\n",
       "      <td>...</td>\n",
       "      <td>...</td>\n",
       "      <td>...</td>\n",
       "    </tr>\n",
       "    <tr>\n",
       "      <th>1304</th>\n",
       "      <td>1</td>\n",
       "      <td>1.0</td>\n",
       "      <td>0.0</td>\n",
       "      <td>0.0</td>\n",
       "      <td>0.0</td>\n",
       "    </tr>\n",
       "    <tr>\n",
       "      <th>1305</th>\n",
       "      <td>1</td>\n",
       "      <td>1.0</td>\n",
       "      <td>0.0</td>\n",
       "      <td>0.0</td>\n",
       "      <td>0.0</td>\n",
       "    </tr>\n",
       "    <tr>\n",
       "      <th>1306</th>\n",
       "      <td>0</td>\n",
       "      <td>1.0</td>\n",
       "      <td>0.0</td>\n",
       "      <td>0.0</td>\n",
       "      <td>0.0</td>\n",
       "    </tr>\n",
       "    <tr>\n",
       "      <th>1307</th>\n",
       "      <td>0</td>\n",
       "      <td>1.0</td>\n",
       "      <td>0.0</td>\n",
       "      <td>0.0</td>\n",
       "      <td>0.0</td>\n",
       "    </tr>\n",
       "    <tr>\n",
       "      <th>1308</th>\n",
       "      <td>0</td>\n",
       "      <td>0.0</td>\n",
       "      <td>0.0</td>\n",
       "      <td>1.0</td>\n",
       "      <td>0.0</td>\n",
       "    </tr>\n",
       "  </tbody>\n",
       "</table>\n",
       "<p>1309 rows × 5 columns</p>\n",
       "</div>"
      ],
      "text/plain": [
       "     sex  embarked_C  embarked_Q  embarked_S  embarked_nan\n",
       "0      1         0.0         0.0         1.0           0.0\n",
       "1      0         0.0         0.0         1.0           0.0\n",
       "2      1         0.0         0.0         1.0           0.0\n",
       "3      0         0.0         0.0         1.0           0.0\n",
       "4      1         0.0         0.0         1.0           0.0\n",
       "...   ..         ...         ...         ...           ...\n",
       "1304   1         1.0         0.0         0.0           0.0\n",
       "1305   1         1.0         0.0         0.0           0.0\n",
       "1306   0         1.0         0.0         0.0           0.0\n",
       "1307   0         1.0         0.0         0.0           0.0\n",
       "1308   0         0.0         0.0         1.0           0.0\n",
       "\n",
       "[1309 rows x 5 columns]"
      ]
     },
     "execution_count": 28,
     "metadata": {},
     "output_type": "execute_result"
    }
   ],
   "source": [
    "df_encoded['sex']=df_encoded.sex.map({'male':0,'female':1})\n",
    "df_encoded "
   ]
  },
  {
   "cell_type": "markdown",
   "id": "c350f21d-f6c2-45c3-9849-6a50605adaeb",
   "metadata": {},
   "source": [
    "As you can see, we just went from two features to 5. This is not good, so we would like to reduce it back. We can do this by selecting certain amount of columns that affect our target in the best way according to some statistics. "
   ]
  },
  {
   "cell_type": "code",
   "execution_count": 31,
   "id": "74e44a06-248c-46a8-9a54-9480f8f2bec3",
   "metadata": {},
   "outputs": [
    {
     "data": {
      "text/plain": [
       "array([[1., 0., 1.],\n",
       "       [0., 0., 1.],\n",
       "       [1., 0., 1.],\n",
       "       ...,\n",
       "       [0., 1., 0.],\n",
       "       [0., 1., 0.],\n",
       "       [0., 0., 1.]])"
      ]
     },
     "execution_count": 31,
     "metadata": {},
     "output_type": "execute_result"
    }
   ],
   "source": [
    "df_encoded2=SelectPercentile(chi2, percentile=70).fit_transform(df_encoded, y)\n",
    "df_encoded2"
   ]
  },
  {
   "cell_type": "markdown",
   "id": "52ddb28c-17ef-4ca4-88b8-60f7c9724376",
   "metadata": {},
   "source": [
    "### Pipeline\n",
    "\n",
    "As you can see there is many different things we can do based on type of data. Cutting the data like this and dealing with everything separatly can be quite messy. To organize it better, we can use `pipeline`. Let's redo everything we did, but at the same time by forming a pipeline:"
   ]
  },
  {
   "cell_type": "code",
   "execution_count": 32,
   "id": "cb123393-2cda-4943-88b8-6e61474eef0c",
   "metadata": {},
   "outputs": [],
   "source": [
    "X=X.loc[:,[ \"fare\", \"age\",\"pclass\", \"embarked\", \"sex\"]]\n",
    "\n",
    "X_train, X_test, y_train, y_test = train_test_split(X, y, test_size=0.2, random_state=0)"
   ]
  },
  {
   "cell_type": "code",
   "execution_count": 33,
   "id": "2790a911-6e56-48be-a4c1-b25fdcce7c08",
   "metadata": {},
   "outputs": [],
   "source": [
    "numeric_features = [\"age\", \"fare\"]\n",
    "numeric_transformer = Pipeline(\n",
    "    steps=[(\"imputer\", SimpleImputer(strategy=\"median\")), (\"scaler\", StandardScaler())]\n",
    ")\n",
    "\n",
    "categorical_features = [\"embarked\", \"sex\", \"pclass\"]\n",
    "categorical_transformer = Pipeline(\n",
    "    steps=[\n",
    "        (\"encoder\", OneHotEncoder(handle_unknown=\"ignore\")),\n",
    "        (\"selector\", SelectPercentile(chi2, percentile=70)),\n",
    "    ]\n",
    ")\n",
    "preprocessor = ColumnTransformer(\n",
    "    transformers=[\n",
    "        (\"num\", numeric_transformer, numeric_features),\n",
    "        (\"cat\", categorical_transformer, categorical_features)\n",
    "    ]\n",
    ")"
   ]
  },
  {
   "cell_type": "code",
   "execution_count": 34,
   "id": "f070fec0-5273-4f8f-b73f-eb067560fe96",
   "metadata": {
    "scrolled": true
   },
   "outputs": [],
   "source": [
    "clf = Pipeline(\n",
    "    steps=[(\"preprocessor\", preprocessor), (\"classifier\", LogisticRegression())]\n",
    ")"
   ]
  },
  {
   "cell_type": "code",
   "execution_count": 35,
   "id": "c799ead7-8fcc-4650-8411-53a3e36a5a4b",
   "metadata": {
    "scrolled": true
   },
   "outputs": [
    {
     "name": "stdout",
     "output_type": "stream",
     "text": [
      "model score: 0.790\n"
     ]
    },
    {
     "data": {
      "text/html": [
       "<style>#sk-container-id-1 {color: black;}#sk-container-id-1 pre{padding: 0;}#sk-container-id-1 div.sk-toggleable {background-color: white;}#sk-container-id-1 label.sk-toggleable__label {cursor: pointer;display: block;width: 100%;margin-bottom: 0;padding: 0.3em;box-sizing: border-box;text-align: center;}#sk-container-id-1 label.sk-toggleable__label-arrow:before {content: \"▸\";float: left;margin-right: 0.25em;color: #696969;}#sk-container-id-1 label.sk-toggleable__label-arrow:hover:before {color: black;}#sk-container-id-1 div.sk-estimator:hover label.sk-toggleable__label-arrow:before {color: black;}#sk-container-id-1 div.sk-toggleable__content {max-height: 0;max-width: 0;overflow: hidden;text-align: left;background-color: #f0f8ff;}#sk-container-id-1 div.sk-toggleable__content pre {margin: 0.2em;color: black;border-radius: 0.25em;background-color: #f0f8ff;}#sk-container-id-1 input.sk-toggleable__control:checked~div.sk-toggleable__content {max-height: 200px;max-width: 100%;overflow: auto;}#sk-container-id-1 input.sk-toggleable__control:checked~label.sk-toggleable__label-arrow:before {content: \"▾\";}#sk-container-id-1 div.sk-estimator input.sk-toggleable__control:checked~label.sk-toggleable__label {background-color: #d4ebff;}#sk-container-id-1 div.sk-label input.sk-toggleable__control:checked~label.sk-toggleable__label {background-color: #d4ebff;}#sk-container-id-1 input.sk-hidden--visually {border: 0;clip: rect(1px 1px 1px 1px);clip: rect(1px, 1px, 1px, 1px);height: 1px;margin: -1px;overflow: hidden;padding: 0;position: absolute;width: 1px;}#sk-container-id-1 div.sk-estimator {font-family: monospace;background-color: #f0f8ff;border: 1px dotted black;border-radius: 0.25em;box-sizing: border-box;margin-bottom: 0.5em;}#sk-container-id-1 div.sk-estimator:hover {background-color: #d4ebff;}#sk-container-id-1 div.sk-parallel-item::after {content: \"\";width: 100%;border-bottom: 1px solid gray;flex-grow: 1;}#sk-container-id-1 div.sk-label:hover label.sk-toggleable__label {background-color: #d4ebff;}#sk-container-id-1 div.sk-serial::before {content: \"\";position: absolute;border-left: 1px solid gray;box-sizing: border-box;top: 0;bottom: 0;left: 50%;z-index: 0;}#sk-container-id-1 div.sk-serial {display: flex;flex-direction: column;align-items: center;background-color: white;padding-right: 0.2em;padding-left: 0.2em;position: relative;}#sk-container-id-1 div.sk-item {position: relative;z-index: 1;}#sk-container-id-1 div.sk-parallel {display: flex;align-items: stretch;justify-content: center;background-color: white;position: relative;}#sk-container-id-1 div.sk-item::before, #sk-container-id-1 div.sk-parallel-item::before {content: \"\";position: absolute;border-left: 1px solid gray;box-sizing: border-box;top: 0;bottom: 0;left: 50%;z-index: -1;}#sk-container-id-1 div.sk-parallel-item {display: flex;flex-direction: column;z-index: 1;position: relative;background-color: white;}#sk-container-id-1 div.sk-parallel-item:first-child::after {align-self: flex-end;width: 50%;}#sk-container-id-1 div.sk-parallel-item:last-child::after {align-self: flex-start;width: 50%;}#sk-container-id-1 div.sk-parallel-item:only-child::after {width: 0;}#sk-container-id-1 div.sk-dashed-wrapped {border: 1px dashed gray;margin: 0 0.4em 0.5em 0.4em;box-sizing: border-box;padding-bottom: 0.4em;background-color: white;}#sk-container-id-1 div.sk-label label {font-family: monospace;font-weight: bold;display: inline-block;line-height: 1.2em;}#sk-container-id-1 div.sk-label-container {text-align: center;}#sk-container-id-1 div.sk-container {/* jupyter's `normalize.less` sets `[hidden] { display: none; }` but bootstrap.min.css set `[hidden] { display: none !important; }` so we also need the `!important` here to be able to override the default hidden behavior on the sphinx rendered scikit-learn.org. See: https://github.com/scikit-learn/scikit-learn/issues/21755 */display: inline-block !important;position: relative;}#sk-container-id-1 div.sk-text-repr-fallback {display: none;}</style><div id=\"sk-container-id-1\" class=\"sk-top-container\"><div class=\"sk-text-repr-fallback\"><pre>Pipeline(steps=[(&#x27;preprocessor&#x27;,\n",
       "                 ColumnTransformer(transformers=[(&#x27;num&#x27;,\n",
       "                                                  Pipeline(steps=[(&#x27;imputer&#x27;,\n",
       "                                                                   SimpleImputer(strategy=&#x27;median&#x27;)),\n",
       "                                                                  (&#x27;scaler&#x27;,\n",
       "                                                                   StandardScaler())]),\n",
       "                                                  [&#x27;age&#x27;, &#x27;fare&#x27;]),\n",
       "                                                 (&#x27;cat&#x27;,\n",
       "                                                  Pipeline(steps=[(&#x27;encoder&#x27;,\n",
       "                                                                   OneHotEncoder(handle_unknown=&#x27;ignore&#x27;)),\n",
       "                                                                  (&#x27;selector&#x27;,\n",
       "                                                                   SelectPercentile(percentile=70,\n",
       "                                                                                    score_func=&lt;function chi2 at 0x000001CCA7591120&gt;))]),\n",
       "                                                  [&#x27;embarked&#x27;, &#x27;sex&#x27;,\n",
       "                                                   &#x27;pclass&#x27;])])),\n",
       "                (&#x27;classifier&#x27;, LogisticRegression())])</pre><b>In a Jupyter environment, please rerun this cell to show the HTML representation or trust the notebook. <br />On GitHub, the HTML representation is unable to render, please try loading this page with nbviewer.org.</b></div><div class=\"sk-container\" hidden><div class=\"sk-item sk-dashed-wrapped\"><div class=\"sk-label-container\"><div class=\"sk-label sk-toggleable\"><input class=\"sk-toggleable__control sk-hidden--visually\" id=\"sk-estimator-id-1\" type=\"checkbox\" ><label for=\"sk-estimator-id-1\" class=\"sk-toggleable__label sk-toggleable__label-arrow\">Pipeline</label><div class=\"sk-toggleable__content\"><pre>Pipeline(steps=[(&#x27;preprocessor&#x27;,\n",
       "                 ColumnTransformer(transformers=[(&#x27;num&#x27;,\n",
       "                                                  Pipeline(steps=[(&#x27;imputer&#x27;,\n",
       "                                                                   SimpleImputer(strategy=&#x27;median&#x27;)),\n",
       "                                                                  (&#x27;scaler&#x27;,\n",
       "                                                                   StandardScaler())]),\n",
       "                                                  [&#x27;age&#x27;, &#x27;fare&#x27;]),\n",
       "                                                 (&#x27;cat&#x27;,\n",
       "                                                  Pipeline(steps=[(&#x27;encoder&#x27;,\n",
       "                                                                   OneHotEncoder(handle_unknown=&#x27;ignore&#x27;)),\n",
       "                                                                  (&#x27;selector&#x27;,\n",
       "                                                                   SelectPercentile(percentile=70,\n",
       "                                                                                    score_func=&lt;function chi2 at 0x000001CCA7591120&gt;))]),\n",
       "                                                  [&#x27;embarked&#x27;, &#x27;sex&#x27;,\n",
       "                                                   &#x27;pclass&#x27;])])),\n",
       "                (&#x27;classifier&#x27;, LogisticRegression())])</pre></div></div></div><div class=\"sk-serial\"><div class=\"sk-item sk-dashed-wrapped\"><div class=\"sk-label-container\"><div class=\"sk-label sk-toggleable\"><input class=\"sk-toggleable__control sk-hidden--visually\" id=\"sk-estimator-id-2\" type=\"checkbox\" ><label for=\"sk-estimator-id-2\" class=\"sk-toggleable__label sk-toggleable__label-arrow\">preprocessor: ColumnTransformer</label><div class=\"sk-toggleable__content\"><pre>ColumnTransformer(transformers=[(&#x27;num&#x27;,\n",
       "                                 Pipeline(steps=[(&#x27;imputer&#x27;,\n",
       "                                                  SimpleImputer(strategy=&#x27;median&#x27;)),\n",
       "                                                 (&#x27;scaler&#x27;, StandardScaler())]),\n",
       "                                 [&#x27;age&#x27;, &#x27;fare&#x27;]),\n",
       "                                (&#x27;cat&#x27;,\n",
       "                                 Pipeline(steps=[(&#x27;encoder&#x27;,\n",
       "                                                  OneHotEncoder(handle_unknown=&#x27;ignore&#x27;)),\n",
       "                                                 (&#x27;selector&#x27;,\n",
       "                                                  SelectPercentile(percentile=70,\n",
       "                                                                   score_func=&lt;function chi2 at 0x000001CCA7591120&gt;))]),\n",
       "                                 [&#x27;embarked&#x27;, &#x27;sex&#x27;, &#x27;pclass&#x27;])])</pre></div></div></div><div class=\"sk-parallel\"><div class=\"sk-parallel-item\"><div class=\"sk-item\"><div class=\"sk-label-container\"><div class=\"sk-label sk-toggleable\"><input class=\"sk-toggleable__control sk-hidden--visually\" id=\"sk-estimator-id-3\" type=\"checkbox\" ><label for=\"sk-estimator-id-3\" class=\"sk-toggleable__label sk-toggleable__label-arrow\">num</label><div class=\"sk-toggleable__content\"><pre>[&#x27;age&#x27;, &#x27;fare&#x27;]</pre></div></div></div><div class=\"sk-serial\"><div class=\"sk-item\"><div class=\"sk-serial\"><div class=\"sk-item\"><div class=\"sk-estimator sk-toggleable\"><input class=\"sk-toggleable__control sk-hidden--visually\" id=\"sk-estimator-id-4\" type=\"checkbox\" ><label for=\"sk-estimator-id-4\" class=\"sk-toggleable__label sk-toggleable__label-arrow\">SimpleImputer</label><div class=\"sk-toggleable__content\"><pre>SimpleImputer(strategy=&#x27;median&#x27;)</pre></div></div></div><div class=\"sk-item\"><div class=\"sk-estimator sk-toggleable\"><input class=\"sk-toggleable__control sk-hidden--visually\" id=\"sk-estimator-id-5\" type=\"checkbox\" ><label for=\"sk-estimator-id-5\" class=\"sk-toggleable__label sk-toggleable__label-arrow\">StandardScaler</label><div class=\"sk-toggleable__content\"><pre>StandardScaler()</pre></div></div></div></div></div></div></div></div><div class=\"sk-parallel-item\"><div class=\"sk-item\"><div class=\"sk-label-container\"><div class=\"sk-label sk-toggleable\"><input class=\"sk-toggleable__control sk-hidden--visually\" id=\"sk-estimator-id-6\" type=\"checkbox\" ><label for=\"sk-estimator-id-6\" class=\"sk-toggleable__label sk-toggleable__label-arrow\">cat</label><div class=\"sk-toggleable__content\"><pre>[&#x27;embarked&#x27;, &#x27;sex&#x27;, &#x27;pclass&#x27;]</pre></div></div></div><div class=\"sk-serial\"><div class=\"sk-item\"><div class=\"sk-serial\"><div class=\"sk-item\"><div class=\"sk-estimator sk-toggleable\"><input class=\"sk-toggleable__control sk-hidden--visually\" id=\"sk-estimator-id-7\" type=\"checkbox\" ><label for=\"sk-estimator-id-7\" class=\"sk-toggleable__label sk-toggleable__label-arrow\">OneHotEncoder</label><div class=\"sk-toggleable__content\"><pre>OneHotEncoder(handle_unknown=&#x27;ignore&#x27;)</pre></div></div></div><div class=\"sk-item\"><div class=\"sk-estimator sk-toggleable\"><input class=\"sk-toggleable__control sk-hidden--visually\" id=\"sk-estimator-id-8\" type=\"checkbox\" ><label for=\"sk-estimator-id-8\" class=\"sk-toggleable__label sk-toggleable__label-arrow\">SelectPercentile</label><div class=\"sk-toggleable__content\"><pre>SelectPercentile(percentile=70,\n",
       "                 score_func=&lt;function chi2 at 0x000001CCA7591120&gt;)</pre></div></div></div></div></div></div></div></div></div></div><div class=\"sk-item\"><div class=\"sk-estimator sk-toggleable\"><input class=\"sk-toggleable__control sk-hidden--visually\" id=\"sk-estimator-id-9\" type=\"checkbox\" ><label for=\"sk-estimator-id-9\" class=\"sk-toggleable__label sk-toggleable__label-arrow\">LogisticRegression</label><div class=\"sk-toggleable__content\"><pre>LogisticRegression()</pre></div></div></div></div></div></div></div>"
      ],
      "text/plain": [
       "Pipeline(steps=[('preprocessor',\n",
       "                 ColumnTransformer(transformers=[('num',\n",
       "                                                  Pipeline(steps=[('imputer',\n",
       "                                                                   SimpleImputer(strategy='median')),\n",
       "                                                                  ('scaler',\n",
       "                                                                   StandardScaler())]),\n",
       "                                                  ['age', 'fare']),\n",
       "                                                 ('cat',\n",
       "                                                  Pipeline(steps=[('encoder',\n",
       "                                                                   OneHotEncoder(handle_unknown='ignore')),\n",
       "                                                                  ('selector',\n",
       "                                                                   SelectPercentile(percentile=70,\n",
       "                                                                                    score_func=<function chi2 at 0x000001CCA7591120>))]),\n",
       "                                                  ['embarked', 'sex',\n",
       "                                                   'pclass'])])),\n",
       "                ('classifier', LogisticRegression())])"
      ]
     },
     "execution_count": 35,
     "metadata": {},
     "output_type": "execute_result"
    }
   ],
   "source": [
    "clf.fit(X_train, y_train)\n",
    "print(\"model score: %.3f\" % clf.score(X_test, y_test))  # average accuracy\n",
    "clf"
   ]
  },
  {
   "cell_type": "code",
   "execution_count": 36,
   "id": "2f41e560-05a4-4f70-a55f-46bb6edf614e",
   "metadata": {},
   "outputs": [
    {
     "data": {
      "text/plain": [
       "array([[142,  20],\n",
       "       [ 35,  65]], dtype=int64)"
      ]
     },
     "execution_count": 36,
     "metadata": {},
     "output_type": "execute_result"
    }
   ],
   "source": [
    "y_pred=clf.predict(X_test)\n",
    "confusion_matrix(y_test,y_pred)"
   ]
  },
  {
   "cell_type": "markdown",
   "id": "fd617d20-bff3-4edd-af97-25cbad93bece",
   "metadata": {},
   "source": [
    "### Regularization\n",
    "\n",
    "Regularization is a way to avoid (or at least minimize) overfitting. Recall that the more complex our model, the higher chances of overfitting, but it would lower our loss. So, we want to find a balance between loss and complexity. For that we need to find a way to measure complexity of our model, add this to our loss function, and minimaze the sum: $$\\min_{param} \\left[Loss(data, param) + \\lambda \\cdot Complexity(param)\\right]$$\n",
    "\n",
    "The hyperparameter $\\lambda$ is a way for us to control how important regularization is.\n",
    "\n",
    "Two common ways to do regularization is $L1-Regularization$ and $L2-Regularization$. Idea behind both is quite simple. The more complex model is, the more parameters it has. For the  $L1-Regularization$, we just add absolute values of our parameters and for $L2-Regularization$ we add squares of our parameters. The second case is just a square norm of a vector containing our parameters.\n",
    "\n",
    "For example, for linear regression our loss was $$Loss  = \\frac{1}{N}||w{\\bf x}+{\\bf{b}}-{\\bf y}||^2$$ So with $L1-Regularization$ we would want to minimize \n",
    "$$\\frac{1}{N}||w{\\bf x}+{\\bf{b}}-{\\bf y}||^2+\\lambda \\sum |w_i|$$\n",
    "\n",
    "Let's try to apply $L1-Regularization$ to polynomial regression, where we would like a fit a polynomial curve to given data.\n",
    "\n",
    "We will use two models. One is polynomial regression that we get directly with no training and calculate loss at the end with $L1-Regularization$. Second model uses `Lasso`, which uses $L1-Regularization$ by default to get the curve needed."
   ]
  },
  {
   "cell_type": "code",
   "execution_count": 52,
   "id": "9e494814-e4e6-442c-ac96-09efcd5dc746",
   "metadata": {},
   "outputs": [],
   "source": [
    "n_samples=40\n",
    "Lambda=0.001\n",
    "\n",
    "X = np.random.rand(n_samples)\n",
    "y=np.cos(1.5 * np.pi * X)+0.5*np.random.rand(n_samples)\n",
    "X=X.reshape(-1,1)"
   ]
  },
  {
   "cell_type": "code",
   "execution_count": 53,
   "id": "4e42c3eb-60c3-4d1c-9722-f750fe8c4250",
   "metadata": {},
   "outputs": [
    {
     "data": {
      "image/png": "[encoded data removed]",
      "text/plain": [
       "<Figure size 640x480 with 1 Axes>"
      ]
     },
     "metadata": {},
     "output_type": "display_data"
    }
   ],
   "source": [
    "polymodel = PolynomialFeatures(degree=3, include_bias=True)\n",
    "data=polymodel.fit_transform(X)\n",
    "model1=LinearRegression()\n",
    "model2=Lasso(alpha=Lambda)\n",
    "\n",
    "\n",
    "model1.fit(data,y) \n",
    "model2.fit(data,y) \n",
    "\n",
    "\n",
    "X_plot=np.linspace(0,1,100).reshape(-1,1)\n",
    "X_plot_poly=polymodel.transform(X_plot)\n",
    "fig=plt.figure()\n",
    "plt.scatter(X,y, c='b', s=50, alpha=.5)\n",
    "plt.plot(X_plot,model1.predict(X_plot_poly),'-r', label='Polynomial Regression')\n",
    "plt.plot(X_plot,model2.predict(X_plot_poly),'-g', label='Lasso')\n",
    "plt.legend()\n",
    "plt.ylim(-2,2)\n",
    "fig.show()"
   ]
  },
  {
   "cell_type": "code",
   "execution_count": 54,
   "id": "ba0b3ecc-3c23-4bbd-b1d3-ada5e14ca33c",
   "metadata": {},
   "outputs": [
    {
     "name": "stdout",
     "output_type": "stream",
     "text": [
      " Loss of Poly. Reg. Model with L1 Reg= 0.046 \n",
      " Loss of Lasso Model with L1 Reg = 0.046\n",
      " Weights of Poly. Reg. Model= [-1.198 -8.8    9.177] \n",
      " Weights of Lasso Model= [-3.707 -1.949  4.527]\n"
     ]
    }
   ],
   "source": [
    "y_pred1=model1.predict(polymodel.transform(X))\n",
    "y_pred2=model2.predict(polymodel.transform(X))\n",
    "\n",
    "Loss1=((y_pred1-y)**2).mean() +  Lambda*(np.abs(model1.coef_)).sum()\n",
    "Loss2=((y_pred2-y)**2).mean() +  Lambda*(np.abs(model2.coef_)).sum()\n",
    "Loss1,Loss2\n",
    "print(f' Loss of Poly. Reg. Model with L1 Reg= {Loss1:.3f} \\n Loss of Lasso Model with L1 Reg = {Loss2:.3f}')\n",
    "print(f' Weights of Poly. Reg. Model= {model1.coef_[1:]} \\n Weights of Lasso Model= {model2.coef_[1:]}')"
   ]
  },
  {
   "cell_type": "markdown",
   "id": "35509034-1435-4a10-b5af-4caae8290384",
   "metadata": {},
   "source": [
    "Let's see what happens to loss in both of our models if we start increasing complexity:"
   ]
  },
  {
   "cell_type": "code",
   "execution_count": 55,
   "id": "460c7053-6bce-42aa-898b-78fa903649b8",
   "metadata": {},
   "outputs": [
    {
     "data": {
      "image/png": "[encoded data removed]",
      "text/plain": [
       "<Figure size 640x480 with 1 Axes>"
      ]
     },
     "metadata": {},
     "output_type": "display_data"
    }
   ],
   "source": [
    "Loss1, Loss2= [],[]\n",
    "\n",
    "for deg in range(1,8):\n",
    "    polymodel = PolynomialFeatures(degree=deg, include_bias=True)\n",
    "    data=polymodel.fit_transform(X)\n",
    "    model1=LinearRegression()\n",
    "    model2=Lasso(alpha=Lambda)\n",
    "    \n",
    "    \n",
    "    model1.fit(data,y) \n",
    "    model2.fit(data,y) \n",
    "  \n",
    "    y_pred1=model1.predict(polymodel.transform(X))\n",
    "    y_pred2=model2.predict(polymodel.transform(X))\n",
    "    \n",
    "    Loss1.append(((y_pred1-y)**2).mean() +  Lambda*(np.abs(model1.coef_)).sum())\n",
    "    Loss2.append(((y_pred2-y)**2).mean() +  Lambda*(np.abs(model2.coef_)).sum())\n",
    "\n",
    "fig=plt.figure()\n",
    "xv=np.arange(0,deg)\n",
    "plt.plot(xv,Loss1,'-r', label='Loss of Poly. Reg. Model')\n",
    "plt.plot(xv,Loss2,'-g', label='Loss of Lasso Model')\n",
    "plt.ylim(0,1)\n",
    "plt.ylabel(\"Loss\")\n",
    "plt.xlabel('Degree')\n",
    "plt.legend()\n",
    "plt.show()\n"
   ]
  },
  {
   "cell_type": "markdown",
   "id": "d3ea7271-ab80-442d-9c03-a32502a45698",
   "metadata": {},
   "source": [
    "As you can see, as we increase our complexity, the regularization term makes our loss go up. Since Lasso model tries to minimize both complexity and loss, it generally makes most of the weights be zero. "
   ]
  },
  {
   "cell_type": "markdown",
   "id": "c70c4e3c-98f0-4523-b1a2-c1d33ed50558",
   "metadata": {},
   "source": [
    "For $L2-Regularization$ we use \"Ridge\" instead of \"Lasso\":"
   ]
  },
  {
   "cell_type": "code",
   "execution_count": 57,
   "id": "20833cb4-2c61-436f-bcca-20106ae48132",
   "metadata": {},
   "outputs": [
    {
     "data": {
      "image/png": "[encoded data removed]",
      "text/plain": [
       "<Figure size 640x480 with 1 Axes>"
      ]
     },
     "metadata": {},
     "output_type": "display_data"
    }
   ],
   "source": [
    "Loss1, Loss2= [],[]\n",
    "\n",
    "for deg in range(1,8):\n",
    "    polymodel = PolynomialFeatures(degree=deg, include_bias=True)\n",
    "    data=polymodel.fit_transform(X)\n",
    "    model1=LinearRegression()\n",
    "    model2=Ridge(alpha=Lambda)\n",
    "    \n",
    "    \n",
    "    model1.fit(data,y) \n",
    "    model2.fit(data,y) \n",
    "  \n",
    "    y_pred1=model1.predict(polymodel.transform(X))\n",
    "    y_pred2=model2.predict(polymodel.transform(X))\n",
    "    \n",
    "    Loss1.append(((y_pred1-y)**2).mean() +  Lambda*(np.abs(model1.coef_)).sum())\n",
    "    Loss2.append(((y_pred2-y)**2).mean() +  Lambda*(np.abs(model2.coef_)).sum())\n",
    "\n",
    "fig=plt.figure()\n",
    "xv=np.arange(0,deg)\n",
    "plt.plot(xv,Loss1,'-r', label='Loss of Poly. Reg. Model')\n",
    "plt.plot(xv,Loss2,'-g', label='Loss of Ridge Model')\n",
    "plt.ylim(0,1)\n",
    "plt.ylabel(\"Loss\")\n",
    "plt.xlabel('Degree')\n",
    "plt.legend()\n",
    "plt.show()"
   ]
  },
  {
   "cell_type": "markdown",
   "id": "a2242f8f-8327-4a72-9352-30acf0586ee1",
   "metadata": {},
   "source": [
    "So which regularization to use? In majority of cases, $L2-Regularization$ performs the same or better. Main benefit of $L1-Regularization$ is that it can shrink some coefficients to zero (removing less important features) and is mostly used whe you expect only a few features to be important."
   ]
  },
  {
   "cell_type": "code",
   "execution_count": null,
   "id": "891a17c6-1ec4-4108-b310-56157b3f333b",
   "metadata": {},
   "outputs": [],
   "source": []
  }
 ],
 "metadata": {
  "kernelspec": {
   "display_name": "Python 3 (ipykernel)",
   "language": "python",
   "name": "python3"
  },
  "language_info": {
   "codemirror_mode": {
    "name": "ipython",
    "version": 3
   },
   "file_extension": ".py",
   "mimetype": "text/x-python",
   "name": "python",
   "nbconvert_exporter": "python",
   "pygments_lexer": "ipython3",
   "version": "3.11.8"
  }
 },
 "nbformat": 4,
 "nbformat_minor": 5
}
