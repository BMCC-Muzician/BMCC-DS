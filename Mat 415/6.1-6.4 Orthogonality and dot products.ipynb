{
 "cells": [
  {
   "cell_type": "code",
   "execution_count": 1,
   "id": "fabcb4e3",
   "metadata": {},
   "outputs": [],
   "source": [
    "import matplotlib.pyplot as plt\n",
    "import numpy as np\n",
    "import sympy as sp\n",
    "from scipy import linalg as la\n",
    "sp.init_printing() \n",
    "import warnings\n",
    "warnings.filterwarnings(\"ignore\")"
   ]
  },
  {
   "cell_type": "markdown",
   "id": "8ee19d19",
   "metadata": {},
   "source": [
    "## Goals and Commands\n",
    "\n",
    "#### Goals\n",
    "1. Dot Producs\n",
    "2. Norm\n",
    "3. Gram-Schmidt Process\n",
    "4. QR-factorization\n",
    "\n",
    "#### Commands\n",
    "1. norm()\n",
    "2. GramSchmidt()\n",
    "3. linalg.qr()\n",
    "\n",
    "\n",
    "#### Dot Product\n",
    "There are few ways to do dot product in Jupyter:"
   ]
  },
  {
   "cell_type": "code",
   "execution_count": 4,
   "id": "37704a8a",
   "metadata": {},
   "outputs": [],
   "source": [
    "v=np.array([1,2,3])\n",
    "u=np.array([-1,2,5])"
   ]
  },
  {
   "cell_type": "code",
   "execution_count": 6,
   "id": "32df0cb5",
   "metadata": {},
   "outputs": [
    {
     "data": {
      "text/plain": [
       "18"
      ]
     },
     "execution_count": 6,
     "metadata": {},
     "output_type": "execute_result"
    }
   ],
   "source": [
    "# matrix multiplication \n",
    "u@v"
   ]
  },
  {
   "cell_type": "code",
   "execution_count": 9,
   "id": "273362d6",
   "metadata": {},
   "outputs": [
    {
     "data": {
      "text/plain": [
       "18"
      ]
     },
     "execution_count": 9,
     "metadata": {},
     "output_type": "execute_result"
    }
   ],
   "source": [
    "# using inner product command (inner product is more general name for dot product)\n",
    "np.inner(u,v)"
   ]
  },
  {
   "cell_type": "code",
   "execution_count": 15,
   "id": "445375fa",
   "metadata": {},
   "outputs": [
    {
     "data": {
      "text/latex": [
       "$\\displaystyle \\left[\\begin{matrix}18\\end{matrix}\\right]$"
      ],
      "text/plain": [
       "[18]"
      ]
     },
     "execution_count": 15,
     "metadata": {},
     "output_type": "execute_result"
    }
   ],
   "source": [
    "# Product with SymPy\n",
    "a=sp.Matrix(u)\n",
    "b=sp.Matrix(v)\n",
    "a.T*b"
   ]
  },
  {
   "cell_type": "markdown",
   "id": "3d4ad04f",
   "metadata": {},
   "source": [
    "To find norm is easy too:"
   ]
  },
  {
   "cell_type": "code",
   "execution_count": 25,
   "id": "211a406a",
   "metadata": {},
   "outputs": [
    {
     "data": {
      "image/png": "[encoded data removed]",
      "text/latex": [
       "$\\displaystyle 5.47722557505166$"
      ],
      "text/plain": [
       "5.477225575051661"
      ]
     },
     "execution_count": 25,
     "metadata": {},
     "output_type": "execute_result"
    }
   ],
   "source": [
    "np.linalg.norm(u)"
   ]
  },
  {
   "cell_type": "code",
   "execution_count": 26,
   "id": "f5f9baef",
   "metadata": {},
   "outputs": [
    {
     "data": {
      "image/png": "[encoded data removed]",
      "text/latex": [
       "$\\displaystyle 5.47722557505166$"
      ],
      "text/plain": [
       "5.477225575051661"
      ]
     },
     "execution_count": 26,
     "metadata": {},
     "output_type": "execute_result"
    }
   ],
   "source": [
    "la.norm(u)"
   ]
  },
  {
   "cell_type": "code",
   "execution_count": 27,
   "id": "671f51af",
   "metadata": {},
   "outputs": [
    {
     "data": {
      "image/png": "[encoded data removed]",
      "text/latex": [
       "$\\displaystyle \\sqrt{30}$"
      ],
      "text/plain": [
       "√30"
      ]
     },
     "execution_count": 27,
     "metadata": {},
     "output_type": "execute_result"
    }
   ],
   "source": [
    "a.norm()"
   ]
  },
  {
   "cell_type": "markdown",
   "id": "e3c2044e",
   "metadata": {},
   "source": [
    "### Example\n",
    "\n",
    "Let $A=\\begin{bmatrix} 1 & 1 & 2 \\\\ 2 & 5 & 0 \\\\ 4 & 7 & 4 \\end{bmatrix}$. Show that Row(A) is orthogonal to Nul(A)\n",
    "\n",
    "#### Solution"
   ]
  },
  {
   "cell_type": "code",
   "execution_count": 29,
   "id": "74a7a8e8",
   "metadata": {},
   "outputs": [
    {
     "data": {
      "text/latex": [
       "$\\displaystyle \\left( \\left[ \\left[\\begin{matrix}1 & 1 & 2\\end{matrix}\\right], \\  \\left[\\begin{matrix}0 & 3 & -4\\end{matrix}\\right]\\right], \\  \\left[ \\left[\\begin{matrix}- \\frac{10}{3}\\\\\\frac{4}{3}\\\\1\\end{matrix}\\right]\\right]\\right)$"
      ],
      "text/plain": [
       "⎛                         ⎡⎡-10/3⎤⎤⎞\n",
       "⎜                         ⎢⎢     ⎥⎥⎟\n",
       "⎜[[1  1  2], [0  3  -4]], ⎢⎢ 4/3 ⎥⎥⎟\n",
       "⎜                         ⎢⎢     ⎥⎥⎟\n",
       "⎝                         ⎣⎣  1  ⎦⎦⎠"
      ]
     },
     "execution_count": 29,
     "metadata": {},
     "output_type": "execute_result"
    }
   ],
   "source": [
    "A=sp.Matrix([[1,1,2],[2,5,0],[4,7,4]])\n",
    "row=A.rowspace()\n",
    "nul=A.nullspace()\n",
    "row,nul"
   ]
  },
  {
   "cell_type": "markdown",
   "id": "2e9f7c28",
   "metadata": {},
   "source": [
    "Note both row and nul are lists containing vectors, so we will have to use indecies. To check orthogonality we just need to find all pairwise dot products. Since, row contains row vectors, we don't need to use transpose:"
   ]
  },
  {
   "cell_type": "code",
   "execution_count": 30,
   "id": "8cb37b9d",
   "metadata": {},
   "outputs": [
    {
     "data": {
      "text/latex": [
       "$\\displaystyle \\left[\\begin{matrix}0\\end{matrix}\\right]$"
      ],
      "text/plain": [
       "[0]"
      ]
     },
     "execution_count": 30,
     "metadata": {},
     "output_type": "execute_result"
    }
   ],
   "source": [
    "row[0]*nul[0]"
   ]
  },
  {
   "cell_type": "code",
   "execution_count": 31,
   "id": "013254a1",
   "metadata": {},
   "outputs": [
    {
     "data": {
      "text/latex": [
       "$\\displaystyle \\left[\\begin{matrix}0\\end{matrix}\\right]$"
      ],
      "text/plain": [
       "[0]"
      ]
     },
     "execution_count": 31,
     "metadata": {},
     "output_type": "execute_result"
    }
   ],
   "source": [
    "row[1]*nul[0]"
   ]
  },
  {
   "cell_type": "markdown",
   "id": "86326801",
   "metadata": {},
   "source": [
    "Both dot products are zero. Hence, both spaces are orthogonal to each other.\n",
    "#### End of solution\n",
    "\n",
    "Next, lets explore null space commands in more details:"
   ]
  },
  {
   "cell_type": "code",
   "execution_count": 36,
   "id": "41b227f1",
   "metadata": {},
   "outputs": [
    {
     "data": {
      "text/plain": [
       "array([[ 0.91287093, -0.        ],\n",
       "       [-0.18257419,  0.89442719],\n",
       "       [-0.36514837, -0.4472136 ]])"
      ]
     },
     "execution_count": 36,
     "metadata": {},
     "output_type": "execute_result"
    }
   ],
   "source": [
    "A=np.array([[1,1,2],[5,5,10],[4,4,8]])\n",
    "N=la.null_space(A)\n",
    "N"
   ]
  },
  {
   "cell_type": "code",
   "execution_count": 44,
   "id": "c220ea2e",
   "metadata": {},
   "outputs": [],
   "source": [
    "v1=N[:,0]\n",
    "v2=N[:,1]"
   ]
  },
  {
   "cell_type": "code",
   "execution_count": 45,
   "id": "23855d0f",
   "metadata": {},
   "outputs": [
    {
     "data": {
      "image/png": "[encoded data removed]",
      "text/latex": [
       "$\\displaystyle 1.11022302462516 \\cdot 10^{-16}$"
      ],
      "text/plain": [
       "1.1102230246251565e-16"
      ]
     },
     "execution_count": 45,
     "metadata": {},
     "output_type": "execute_result"
    }
   ],
   "source": [
    "v1@v2"
   ]
  },
  {
   "cell_type": "code",
   "execution_count": 46,
   "id": "47eaa48e",
   "metadata": {},
   "outputs": [
    {
     "data": {
      "image/png": "[encoded data removed]",
      "text/latex": [
       "$\\displaystyle 1.0$"
      ],
      "text/plain": [
       "1.0"
      ]
     },
     "execution_count": 46,
     "metadata": {},
     "output_type": "execute_result"
    }
   ],
   "source": [
    "la.norm(v1)"
   ]
  },
  {
   "cell_type": "code",
   "execution_count": 47,
   "id": "1226b2b0",
   "metadata": {},
   "outputs": [
    {
     "data": {
      "image/png": "[encoded data removed]",
      "text/latex": [
       "$\\displaystyle 1.0$"
      ],
      "text/plain": [
       "1.0"
      ]
     },
     "execution_count": 47,
     "metadata": {},
     "output_type": "execute_result"
    }
   ],
   "source": [
    "la.norm(v2)"
   ]
  },
  {
   "cell_type": "markdown",
   "id": "b3c74859",
   "metadata": {},
   "source": [
    "As you can see, la.null_space produces a matrix whose columns form orthonormal basis for Null space. Note that v1@v2=1.11022302462516 e−16. While this not zero, it is very very close to zero. In fact, it isn't a zero only due to a rounding error. \n",
    "\n",
    "The SymPy version (nullspace() ) doesn't provide orthonormal basis.\n",
    "\n",
    "### Gram-Schmidt Process\n",
    "\n",
    "SymPy includes are direct way to do Gram-Schmidt process:\n",
    "\n",
    "#### Example\n",
    "\n",
    "Orthogonalize column space for $A=\\begin{bmatrix} 1 & 1 & 0 & 3\\\\ 2 & 5 & -1 & 3\\\\ 0 & 1 & 2 & 0\\end{bmatrix}$\n",
    "\n",
    "#### Solution"
   ]
  },
  {
   "cell_type": "code",
   "execution_count": 63,
   "id": "931a5907",
   "metadata": {},
   "outputs": [
    {
     "data": {
      "text/latex": [
       "$\\displaystyle \\left[ \\left[\\begin{matrix}1\\\\2\\\\0\\end{matrix}\\right], \\  \\left[\\begin{matrix}- \\frac{6}{5}\\\\\\frac{3}{5}\\\\1\\end{matrix}\\right], \\  \\left[\\begin{matrix}1\\\\- \\frac{1}{2}\\\\\\frac{3}{2}\\end{matrix}\\right]\\right]$"
      ],
      "text/plain": [
       "⎡⎡1⎤  ⎡-6/5⎤  ⎡ 1  ⎤⎤\n",
       "⎢⎢ ⎥  ⎢    ⎥  ⎢    ⎥⎥\n",
       "⎢⎢2⎥, ⎢3/5 ⎥, ⎢-1/2⎥⎥\n",
       "⎢⎢ ⎥  ⎢    ⎥  ⎢    ⎥⎥\n",
       "⎣⎣0⎦  ⎣ 1  ⎦  ⎣3/2 ⎦⎦"
      ]
     },
     "execution_count": 63,
     "metadata": {},
     "output_type": "execute_result"
    }
   ],
   "source": [
    "A=sp.Matrix([[1,1,0,3],[2,5,-1,3],[0,1,2,0]])\n",
    "Col=A.columnspace()\n",
    "sp.GramSchmidt(Col)\n"
   ]
  },
  {
   "cell_type": "code",
   "execution_count": 64,
   "id": "015fa426",
   "metadata": {},
   "outputs": [
    {
     "data": {
      "text/latex": [
       "$\\displaystyle \\left[ \\left[\\begin{matrix}\\frac{\\sqrt{5}}{5}\\\\\\frac{2 \\sqrt{5}}{5}\\\\0\\end{matrix}\\right], \\  \\left[\\begin{matrix}- \\frac{3 \\sqrt{70}}{35}\\\\\\frac{3 \\sqrt{70}}{70}\\\\\\frac{\\sqrt{70}}{14}\\end{matrix}\\right], \\  \\left[\\begin{matrix}\\frac{\\sqrt{14}}{7}\\\\- \\frac{\\sqrt{14}}{14}\\\\\\frac{3 \\sqrt{14}}{14}\\end{matrix}\\right]\\right]$"
      ],
      "text/plain": [
       "⎡        ⎡-3⋅√70 ⎤  ⎡ √14 ⎤⎤\n",
       "⎢⎡ √5 ⎤  ⎢───────⎥  ⎢ ─── ⎥⎥\n",
       "⎢⎢ ── ⎥  ⎢   35  ⎥  ⎢  7  ⎥⎥\n",
       "⎢⎢ 5  ⎥  ⎢       ⎥  ⎢     ⎥⎥\n",
       "⎢⎢    ⎥  ⎢ 3⋅√70 ⎥  ⎢-√14 ⎥⎥\n",
       "⎢⎢2⋅√5⎥, ⎢ ───── ⎥, ⎢─────⎥⎥\n",
       "⎢⎢────⎥  ⎢   70  ⎥  ⎢  14 ⎥⎥\n",
       "⎢⎢ 5  ⎥  ⎢       ⎥  ⎢     ⎥⎥\n",
       "⎢⎢    ⎥  ⎢  √70  ⎥  ⎢3⋅√14⎥⎥\n",
       "⎢⎣ 0  ⎦  ⎢  ───  ⎥  ⎢─────⎥⎥\n",
       "⎣        ⎣   14  ⎦  ⎣  14 ⎦⎦"
      ]
     },
     "execution_count": 64,
     "metadata": {},
     "output_type": "execute_result"
    }
   ],
   "source": [
    "# Gram-Schmidt with normalization\n",
    "sp.GramSchmidt(Col, orthonormal=True)"
   ]
  },
  {
   "cell_type": "markdown",
   "id": "5ef2833f",
   "metadata": {},
   "source": [
    "#### End of Solution\n",
    "\n",
    "### QR-factorization\n",
    "\n",
    "This is an important type of marix factorization for many reasons. One of them is that in A=QR, the columns of Q are orthonormal basis of Col(A). This, in one go, provides a way to find basis for column space and to orthogonalize a set of vectors using NumPy or SciPy. (Note while sympy can do QR factorization as well, usually you have to manually round numbers as it will always try to be precise and use roots. Therefore, usually NumPy is a prefered way).\n",
    "\n",
    "QR factorization will be even more important later when we discuss least-square approximation and PCA.\n",
    "\n",
    "#### Example\n",
    "\n",
    "Find orthonormal basis of $A=\\begin{bmatrix} 1 & 1 & 0 & 3\\\\ 2 & 5 & -1 & 3\\\\ 0 & 1 & 2 & 0\\end{bmatrix}$ using QR-factorization\n",
    "\n",
    "#### Solution"
   ]
  },
  {
   "cell_type": "code",
   "execution_count": 66,
   "id": "86dcb44b",
   "metadata": {},
   "outputs": [],
   "source": [
    "A=np.array([[1,1,0,3],[2,5,-1,3],[0,1,2,0]])\n",
    "Q, R = np.linalg.qr(A)"
   ]
  },
  {
   "cell_type": "code",
   "execution_count": 67,
   "id": "1ad39f15",
   "metadata": {},
   "outputs": [
    {
     "data": {
      "text/plain": [
       "array([[-0.4472136 ,  0.71713717,  0.53452248],\n",
       "       [-0.89442719, -0.35856858, -0.26726124],\n",
       "       [-0.        , -0.5976143 ,  0.80178373]])"
      ]
     },
     "execution_count": 67,
     "metadata": {},
     "output_type": "execute_result"
    }
   ],
   "source": [
    "Q"
   ]
  },
  {
   "cell_type": "code",
   "execution_count": 68,
   "id": "bae35c6c",
   "metadata": {},
   "outputs": [
    {
     "data": {
      "text/plain": [
       "array([[-2.23606798, -4.91934955,  0.89442719, -4.02492236],\n",
       "       [ 0.        , -1.67332005, -0.83666003,  1.07570575],\n",
       "       [ 0.        ,  0.        ,  1.87082869,  0.80178373]])"
      ]
     },
     "execution_count": 68,
     "metadata": {},
     "output_type": "execute_result"
    }
   ],
   "source": [
    "R"
   ]
  },
  {
   "cell_type": "code",
   "execution_count": 78,
   "id": "5fc94875",
   "metadata": {},
   "outputs": [
    {
     "data": {
      "image/png": "[encoded data removed]",
      "text/latex": [
       "$\\displaystyle \\left( 1.0, \\  1.0, \\  1.0\\right)$"
      ],
      "text/plain": [
       "(0.9999999999999999, 0.9999999999999999, 1.0)"
      ]
     },
     "execution_count": 78,
     "metadata": {},
     "output_type": "execute_result"
    }
   ],
   "source": [
    "# Let's check the norms of columns of Q\n",
    "la.norm(Q[0]), la.norm(Q[1]), la.norm(Q[2])"
   ]
  },
  {
   "cell_type": "code",
   "execution_count": 80,
   "id": "32377c2a",
   "metadata": {},
   "outputs": [
    {
     "data": {
      "image/png": "[encoded data removed]",
      "text/latex": [
       "$\\displaystyle \\left( -1.94289029309402 \\cdot 10^{-16}, \\  0.0, \\  -2.77555756156289 \\cdot 10^{-17}\\right)$"
      ],
      "text/plain": [
       "(-1.942890293094024e-16, 0.0, -2.7755575615628914e-17)"
      ]
     },
     "execution_count": 80,
     "metadata": {},
     "output_type": "execute_result"
    }
   ],
   "source": [
    "# Let's check orthogonality\n",
    "Q[0]@Q[1], Q[0]@Q[2],Q[1]@Q[2]"
   ]
  },
  {
   "cell_type": "markdown",
   "id": "c4bef600",
   "metadata": {},
   "source": [
    "#### End of Solution\n",
    "\n",
    "Finally here is the SymPy way:"
   ]
  },
  {
   "cell_type": "code",
   "execution_count": 81,
   "id": "80005505",
   "metadata": {},
   "outputs": [
    {
     "data": {
      "text/latex": [
       "$\\displaystyle \\left( \\left[\\begin{matrix}\\frac{\\sqrt{5}}{5} & - \\frac{3 \\sqrt{70}}{35} & \\frac{\\sqrt{14}}{7}\\\\\\frac{2 \\sqrt{5}}{5} & \\frac{3 \\sqrt{70}}{70} & - \\frac{\\sqrt{14}}{14}\\\\0 & \\frac{\\sqrt{70}}{14} & \\frac{3 \\sqrt{14}}{14}\\end{matrix}\\right], \\  \\left[\\begin{matrix}\\sqrt{5} & \\frac{11 \\sqrt{5}}{5} & - \\frac{2 \\sqrt{5}}{5} & \\frac{9 \\sqrt{5}}{5}\\\\0 & \\frac{\\sqrt{70}}{5} & \\frac{\\sqrt{70}}{10} & - \\frac{9 \\sqrt{70}}{70}\\\\0 & 0 & \\frac{\\sqrt{14}}{2} & \\frac{3 \\sqrt{14}}{14}\\end{matrix}\\right]\\right)$"
      ],
      "text/plain": [
       "⎛⎡ √5   -3⋅√70    √14 ⎤  ⎡    11⋅√5  -2⋅√5    9⋅√5  ⎤⎞\n",
       "⎜⎢ ──   ───────   ─── ⎥  ⎢√5  ─────  ──────   ────  ⎥⎟\n",
       "⎜⎢ 5       35      7  ⎥  ⎢      5      5       5    ⎥⎟\n",
       "⎜⎢                    ⎥  ⎢                          ⎥⎟\n",
       "⎜⎢2⋅√5   3⋅√70   -√14 ⎥  ⎢     √70    √70    -9⋅√70 ⎥⎟\n",
       "⎜⎢────   ─────   ─────⎥, ⎢0    ───    ───    ───────⎥⎟\n",
       "⎜⎢ 5       70      14 ⎥  ⎢      5      10       70  ⎥⎟\n",
       "⎜⎢                    ⎥  ⎢                          ⎥⎟\n",
       "⎜⎢        √70    3⋅√14⎥  ⎢            √14     3⋅√14 ⎥⎟\n",
       "⎜⎢ 0      ───    ─────⎥  ⎢0     0     ───     ───── ⎥⎟\n",
       "⎝⎣         14      14 ⎦  ⎣             2        14  ⎦⎠"
      ]
     },
     "execution_count": 81,
     "metadata": {},
     "output_type": "execute_result"
    }
   ],
   "source": [
    "sp.matrices.MatrixBase.QRdecomposition(sp.Matrix(A))"
   ]
  },
  {
   "cell_type": "code",
   "execution_count": null,
   "id": "39c34afa",
   "metadata": {},
   "outputs": [],
   "source": []
  }
 ],
 "metadata": {
  "kernelspec": {
   "display_name": "Python 3 (ipykernel)",
   "language": "python",
   "name": "python3"
  },
  "language_info": {
   "codemirror_mode": {
    "name": "ipython",
    "version": 3
   },
   "file_extension": ".py",
   "mimetype": "text/x-python",
   "name": "python",
   "nbconvert_exporter": "python",
   "pygments_lexer": "ipython3",
   "version": "3.11.5"
  }
 },
 "nbformat": 4,
 "nbformat_minor": 5
}
