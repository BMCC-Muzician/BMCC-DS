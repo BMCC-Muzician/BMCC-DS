{
 "cells": [
  {
   "cell_type": "markdown",
   "id": "f423fe38",
   "metadata": {},
   "source": [
    "# <center> Lab 2 Problems \n",
    "    \n",
    "Do not forget to add libraries. You can copy them from Examples set. You can also add the line for making $x$ a variable symbol for SymPy.\n",
    "    \n",
    "\n",
    "You can add more cells as needed."
   ]
  },
  {
   "cell_type": "code",
   "execution_count": null,
   "id": "49d10cac",
   "metadata": {},
   "outputs": [],
   "source": []
  },
  {
   "cell_type": "markdown",
   "id": "e2cc6e96",
   "metadata": {},
   "source": [
    "### Problem 1\n",
    "\n",
    "Let $f(x)=x^3-x^2-3x+1$\n",
    "\n",
    "**a.** Create $f(x)$ and find $f'(x)$."
   ]
  },
  {
   "cell_type": "code",
   "execution_count": null,
   "id": "95f990f3",
   "metadata": {},
   "outputs": [],
   "source": []
  },
  {
   "cell_type": "markdown",
   "id": "a6e04709",
   "metadata": {},
   "source": [
    "**b.** Plot both $f(x)$ and $f'(x)$ on the same graph for $x$ between $-2$ and $2.5$."
   ]
  },
  {
   "cell_type": "code",
   "execution_count": null,
   "id": "79fd5fb1",
   "metadata": {},
   "outputs": [],
   "source": []
  },
  {
   "cell_type": "markdown",
   "id": "4e763ef8",
   "metadata": {},
   "source": [
    "**c.** Based on the two graphs, describe what is happening to $f(x)$ when $f'(x)=0$."
   ]
  },
  {
   "cell_type": "markdown",
   "id": "3966803c",
   "metadata": {},
   "source": [
    "**Answer:**"
   ]
  },
  {
   "cell_type": "markdown",
   "id": "8da9bbd3",
   "metadata": {},
   "source": [
    "**d.** Find all real $x$'s for which $f'(x)=0$"
   ]
  },
  {
   "cell_type": "code",
   "execution_count": null,
   "id": "3a9ad014",
   "metadata": {},
   "outputs": [],
   "source": []
  },
  {
   "cell_type": "markdown",
   "id": "bacadc66",
   "metadata": {},
   "source": [
    "### Problem 2\n",
    "\n",
    "This problem is designed to show you that you can't always trust the graph drawn by computer (or even\n",
    "more so, person). Sometimes, you need to understand why you see or don't see something.\n",
    "\n",
    "Let $$f(x)=\\frac{2}{1+e^{1/x}}.$$\n",
    "\n",
    "**a.** Define using SymPy and plot it between $x=-5$ and $x=5$. Add grid and title to the graph."
   ]
  },
  {
   "cell_type": "code",
   "execution_count": null,
   "id": "b7f3d5d6",
   "metadata": {},
   "outputs": [],
   "source": [
    "\n"
   ]
  },
  {
   "cell_type": "markdown",
   "id": "4694e863",
   "metadata": {},
   "source": [
    "**b.** Based on the graph only, is there a place where f(x) is not differentiable? Where?"
   ]
  },
  {
   "cell_type": "markdown",
   "id": "225f6aa0",
   "metadata": {},
   "source": [
    "**Answer:**"
   ]
  },
  {
   "cell_type": "markdown",
   "id": "c6642962",
   "metadata": {},
   "source": [
    "**c.** Find derivative of $f(x)$ and plot it wih the same range."
   ]
  },
  {
   "cell_type": "code",
   "execution_count": null,
   "id": "70b2f75f",
   "metadata": {},
   "outputs": [],
   "source": []
  },
  {
   "cell_type": "code",
   "execution_count": null,
   "id": "28d19327",
   "metadata": {},
   "outputs": [],
   "source": []
  },
  {
   "cell_type": "markdown",
   "id": "eaa3240d",
   "metadata": {},
   "source": [
    "**d.** \n",
    "1. Does the graph of $f'(x)$ look continuous at $x=0$? \n",
    "2. Is $f'(x)$ continuous at $x=0$? Why or why not?\n",
    "3. Is $f(x)$ differentiable at $x=0$? Why or why not?"
   ]
  },
  {
   "cell_type": "markdown",
   "id": "6d7fc24a",
   "metadata": {},
   "source": [
    "**Answers:**\n",
    "\n",
    "    1. \n",
    "    \n",
    "    2. \n",
    "    \n",
    "    3. "
   ]
  },
  {
   "cell_type": "markdown",
   "id": "24eee172",
   "metadata": {},
   "source": [
    "### Problem 3\n",
    "\n",
    "A buoy in a water oscillates according to a simple harmonic motion given by $s(t) = A\\cos(wt)$, where $A$\n",
    "is the amplitude (half the distance from the lowest point to the highest) and $w$ controls period ( period=$\\frac{2\\pi}{w}$ ).\n",
    "Suppose the buoy moves the total of 4 feet from lowest to highest point and has the period of 10 seconds.\n",
    "\n",
    "**a.** Find $s(t)$ and plot the graph of $s(t)$ between $t=0$ and $t=10$. "
   ]
  },
  {
   "cell_type": "code",
   "execution_count": null,
   "id": "0d28e045",
   "metadata": {},
   "outputs": [],
   "source": []
  },
  {
   "cell_type": "code",
   "execution_count": null,
   "id": "e98d6d90",
   "metadata": {},
   "outputs": [],
   "source": []
  },
  {
   "cell_type": "markdown",
   "id": "2cf62835",
   "metadata": {},
   "source": [
    "**b.** What is the initial height of the buoy? When the buoy's height is zero the first time?\n"
   ]
  },
  {
   "cell_type": "code",
   "execution_count": null,
   "id": "78745900",
   "metadata": {},
   "outputs": [],
   "source": []
  },
  {
   "cell_type": "code",
   "execution_count": null,
   "id": "27aaae74",
   "metadata": {},
   "outputs": [],
   "source": []
  },
  {
   "cell_type": "markdown",
   "id": "6599894e",
   "metadata": {},
   "source": [
    "**Answer:**"
   ]
  },
  {
   "cell_type": "markdown",
   "id": "b6638543",
   "metadata": {},
   "source": [
    "**c.** Find velocity and acceleration functions of the buoy."
   ]
  },
  {
   "cell_type": "code",
   "execution_count": null,
   "id": "ca2ee677",
   "metadata": {},
   "outputs": [],
   "source": []
  },
  {
   "cell_type": "code",
   "execution_count": null,
   "id": "53ad23ba",
   "metadata": {},
   "outputs": [],
   "source": []
  },
  {
   "cell_type": "markdown",
   "id": "a575f83b",
   "metadata": {},
   "source": [
    "**d.** Compute velocity and acceleration of the buoy when its height is zero."
   ]
  },
  {
   "cell_type": "code",
   "execution_count": null,
   "id": "bedbb2e9",
   "metadata": {},
   "outputs": [],
   "source": []
  },
  {
   "cell_type": "code",
   "execution_count": null,
   "id": "a493d541",
   "metadata": {},
   "outputs": [],
   "source": []
  },
  {
   "cell_type": "markdown",
   "id": "07227040",
   "metadata": {},
   "source": [
    "### Problem 4\n",
    "\n",
    "The table below shows the national health care expenditures $h$ (in billions of dollars) in the U.S. and the\n",
    "population $p$ (in millions) of the U.S. from 2008 to 2013 ($t$ is the time with $t = 8$ representing 2008). (Note: in\n",
    "this problem, for plotting choose $t$ range that make sense for this problem. Look at the table.)\n",
    "\n",
    "$$\n",
    "\\begin{aligned}\n",
    "&\\begin{array}{|c|c|c|c|c|c|c|}\n",
    "\\hline \\hline \n",
    "t & 8 & 9 & 10 & 11 & 12 & 13 \\\\\n",
    "\\hline \n",
    "h & 2414 & 2506 & 2604 & 2705 & 2817 & 2919 \\\\\n",
    "\\hline\n",
    "p & 304 & 307 & 309 & 311 & 313 & 315 \\\\\n",
    "\\hline\n",
    "\\end{array}\n",
    "\\end{aligned}\n",
    "$$\n",
    "\n",
    "**a.** Find the linear models for $h$ and $p$: $h(t) = at + b$ and $p(t) = ct + d$."
   ]
  },
  {
   "cell_type": "code",
   "execution_count": null,
   "id": "4f75a2ae",
   "metadata": {},
   "outputs": [],
   "source": []
  },
  {
   "cell_type": "code",
   "execution_count": null,
   "id": "acb61267",
   "metadata": {},
   "outputs": [],
   "source": []
  },
  {
   "cell_type": "code",
   "execution_count": null,
   "id": "8e91161d",
   "metadata": {},
   "outputs": [],
   "source": []
  },
  {
   "cell_type": "code",
   "execution_count": null,
   "id": "90ce1521",
   "metadata": {},
   "outputs": [],
   "source": []
  },
  {
   "cell_type": "markdown",
   "id": "d44435f6",
   "metadata": {},
   "source": [
    "**b.** Plot both models on the different graphs inlcuding individual points."
   ]
  },
  {
   "cell_type": "code",
   "execution_count": null,
   "id": "b32c0b95",
   "metadata": {},
   "outputs": [],
   "source": []
  },
  {
   "cell_type": "code",
   "execution_count": null,
   "id": "3749c996",
   "metadata": {},
   "outputs": [],
   "source": []
  },
  {
   "cell_type": "markdown",
   "id": "62460efa",
   "metadata": {},
   "source": [
    "**c.** Let $A(t) = \\frac{h(t)}{p(t)}$. Plot $A(t)$. What does $A(t)$ represent? \n",
    "\n",
    "*Note: You should create $A(t)$ manually*"
   ]
  },
  {
   "cell_type": "code",
   "execution_count": null,
   "id": "7f72fecc",
   "metadata": {},
   "outputs": [],
   "source": []
  },
  {
   "cell_type": "code",
   "execution_count": null,
   "id": "0202e585",
   "metadata": {},
   "outputs": [],
   "source": []
  },
  {
   "cell_type": "markdown",
   "id": "f4732176",
   "metadata": {},
   "source": [
    "**Answer:**"
   ]
  },
  {
   "cell_type": "markdown",
   "id": "eab68a33",
   "metadata": {},
   "source": [
    "**d.** Find $A'(t)$ and plot it. What does $A'(t)$ represent? What can we say about $A(t)$?"
   ]
  },
  {
   "cell_type": "code",
   "execution_count": null,
   "id": "a996d5b6",
   "metadata": {},
   "outputs": [],
   "source": []
  },
  {
   "cell_type": "code",
   "execution_count": null,
   "id": "d19f9269",
   "metadata": {},
   "outputs": [],
   "source": []
  },
  {
   "cell_type": "markdown",
   "id": "81713df9",
   "metadata": {},
   "source": [
    "**Answer:** "
   ]
  },
  {
   "cell_type": "code",
   "execution_count": null,
   "id": "aa32c08b",
   "metadata": {},
   "outputs": [],
   "source": []
  }
 ],
 "metadata": {
  "kernelspec": {
   "display_name": "Python 3 (ipykernel)",
   "language": "python",
   "name": "python3"
  },
  "language_info": {
   "codemirror_mode": {
    "name": "ipython",
    "version": 3
   },
   "file_extension": ".py",
   "mimetype": "text/x-python",
   "name": "python",
   "nbconvert_exporter": "python",
   "pygments_lexer": "ipython3",
   "version": "3.11.5"
  }
 },
 "nbformat": 4,
 "nbformat_minor": 5
}
